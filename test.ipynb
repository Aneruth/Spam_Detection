{
 "cells": [
  {
   "cell_type": "code",
   "execution_count": 106,
   "metadata": {},
   "outputs": [],
   "source": [
    "import torch\n",
    "import torch.nn as nn\n",
    "# Adding padding to our dataset (train and test models)\n",
    "import tensorflow as tf\n",
    "import numpy as np\n",
    "from Code.Preprocess.DataPreparation import dataPrepare"
   ]
  },
  {
   "cell_type": "code",
   "execution_count": 107,
   "metadata": {},
   "outputs": [
    {
     "name": "stdout",
     "output_type": "stream",
     "text": [
      "GPU not available, CPU used\n"
     ]
    }
   ],
   "source": [
    "is_cuda = torch.cuda.is_available()\n",
    "\n",
    "# If we have a GPU available, we'll set our device to GPU. We'll use this device variable later in our code.\n",
    "if is_cuda:\n",
    "    device = torch.device(\"cuda\")\n",
    "    print(\"GPU is available\")\n",
    "else:\n",
    "    device = torch.device(\"cpu\")\n",
    "    print(\"GPU not available, CPU used\")"
   ]
  },
  {
   "cell_type": "code",
   "execution_count": 108,
   "metadata": {},
   "outputs": [],
   "source": [
    "data = dataPrepare()\n",
    "X_train, X_test, y_train, y_test =  data.Vectorizer('/Users/aneruthmohanasundaram/Documents/GitHub/Spam_Detection/Code/Data/Youtube01-Psy.csv')"
   ]
  },
  {
   "cell_type": "code",
   "execution_count": 109,
   "metadata": {},
   "outputs": [],
   "source": [
    "# Adding the padding to our sparse matrix\n",
    "X_train = tf.keras.preprocessing.sequence.pad_sequences(X_train.todense())\n",
    "X_test = tf.keras.preprocessing.sequence.pad_sequences(X_test.todense())"
   ]
  },
  {
   "cell_type": "code",
   "execution_count": 110,
   "metadata": {},
   "outputs": [],
   "source": [
    "# make training and test sets in torch\n",
    "x_train = torch.from_numpy(X_train).type(torch.Tensor)\n",
    "x_test = torch.from_numpy(X_test).type(torch.Tensor)\n",
    "y_train = torch.from_numpy(y_train.to_numpy()).type(torch.Tensor)\n",
    "y_test = torch.from_numpy(y_test.to_numpy()).type(torch.Tensor)"
   ]
  },
  {
   "cell_type": "code",
   "execution_count": 111,
   "metadata": {},
   "outputs": [
    {
     "data": {
      "text/plain": [
       "(torch.Size([245]), torch.Size([245, 1, 1010]))"
      ]
     },
     "execution_count": 111,
     "metadata": {},
     "output_type": "execute_result"
    }
   ],
   "source": [
    "(y_train.size(),x_train.size())"
   ]
  },
  {
   "cell_type": "code",
   "execution_count": 114,
   "metadata": {},
   "outputs": [
    {
     "name": "stdout",
     "output_type": "stream",
     "text": [
      "LSTM(\n",
      "  (lstm): LSTM(1010, 28, num_layers=4, batch_first=True)\n",
      "  (fc): Linear(in_features=28, out_features=1, bias=True)\n",
      ")\n",
      "18\n",
      "torch.Size([112, 1010])\n",
      "torch.Size([112, 28])\n",
      "torch.Size([112])\n",
      "torch.Size([112])\n",
      "torch.Size([112, 28])\n",
      "torch.Size([112, 28])\n",
      "torch.Size([112])\n",
      "torch.Size([112])\n",
      "torch.Size([112, 28])\n",
      "torch.Size([112, 28])\n",
      "torch.Size([112])\n",
      "torch.Size([112])\n",
      "torch.Size([112, 28])\n",
      "torch.Size([112, 28])\n",
      "torch.Size([112])\n",
      "torch.Size([112])\n",
      "torch.Size([1, 28])\n",
      "torch.Size([1])\n"
     ]
    }
   ],
   "source": [
    "input_dim = 1010\n",
    "hidden_dim = 28\n",
    "num_layers = 4\n",
    "output_dim = 1\n",
    "\n",
    "\n",
    "# Here we define our model as a class\n",
    "class LSTM(nn.Module):\n",
    "    def __init__(self, input_dim, hidden_dim, num_layers, output_dim):\n",
    "        super(LSTM, self).__init__()\n",
    "        # Hidden dimensions\n",
    "        self.hidden_dim = hidden_dim\n",
    "\n",
    "        # Number of hidden layers\n",
    "        self.num_layers = num_layers\n",
    "\n",
    "        # batch_first=True causes input/output tensors to be of shape\n",
    "        # (batch_dim, seq_dim, feature_dim)\n",
    "        self.lstm = nn.LSTM(input_dim, hidden_dim, num_layers, batch_first=True)\n",
    "\n",
    "        # Readout layer\n",
    "        self.fc = nn.Linear(hidden_dim, output_dim)\n",
    "\n",
    "    def forward(self, x):\n",
    "        # Initialize hidden state with zeros\n",
    "        h0 = torch.zeros(self.num_layers, x.size(0), self.hidden_dim).requires_grad_()\n",
    "\n",
    "        # Initialize cell state\n",
    "        c0 = torch.zeros(self.num_layers, x.size(0), self.hidden_dim).requires_grad_()\n",
    "\n",
    "        # We need to detach as we are doing truncated backpropagation through time (BPTT)\n",
    "        # If we don't, we'll backprop all the way to the start even after going through another batch\n",
    "        out, (hn, cn) = self.lstm(x, (h0.detach(), c0.detach()))\n",
    "\n",
    "        # Index hidden state of last time step\n",
    "        # out.size() --> 100, 32, 100\n",
    "        # out[:, -1, :] --> 100, 100 --> just want last time step hidden states! \n",
    "        out = self.fc(out[:, -1, :]) \n",
    "        # out.size() --> 100, 10\n",
    "        return out\n",
    "    \n",
    "model = LSTM(input_dim=input_dim, hidden_dim=hidden_dim, output_dim=output_dim, num_layers=num_layers)\n",
    "\n",
    "loss_fn = torch.nn.MSELoss()\n",
    "\n",
    "optimiser = torch.optim.Adam(model.parameters(), lr=0.01)\n",
    "print(model)\n",
    "print(len(list(model.parameters())))\n",
    "for i in range(len(list(model.parameters()))):\n",
    "    print(list(model.parameters())[i].size())"
   ]
  },
  {
   "cell_type": "code",
   "execution_count": 133,
   "metadata": {},
   "outputs": [
    {
     "name": "stdout",
     "output_type": "stream",
     "text": [
      "Epoch 10 MSE is 0.24989591538906097\n",
      "Epoch 10 accuracy(%) is 48.979591369628906\n",
      "Epoch 20 MSE is 0.24989591538906097\n",
      "Epoch 20 accuracy(%) is 48.979591369628906\n",
      "Epoch 30 MSE is 0.24989591538906097\n",
      "Epoch 30 accuracy(%) is 48.979591369628906\n",
      "Epoch 40 MSE is 0.2498958557844162\n",
      "Epoch 40 accuracy(%) is 48.979591369628906\n",
      "Epoch 50 MSE is 0.249895840883255\n",
      "Epoch 50 accuracy(%) is 48.979591369628906\n",
      "Epoch 60 MSE is 0.24989591538906097\n",
      "Epoch 60 accuracy(%) is 48.979591369628906\n",
      "Epoch 70 MSE is 0.24989591538906097\n",
      "Epoch 70 accuracy(%) is 48.979591369628906\n",
      "Epoch 80 MSE is 0.2498958855867386\n",
      "Epoch 80 accuracy(%) is 48.979591369628906\n",
      "Epoch 90 MSE is 0.2498958706855774\n",
      "Epoch 90 accuracy(%) is 48.979591369628906\n",
      "Epoch 100 MSE is 0.24989627301692963\n",
      "Epoch 100 accuracy(%) is 48.979591369628906\n",
      "Epoch 110 MSE is 0.2499358355998993\n",
      "Epoch 110 accuracy(%) is 48.979591369628906\n",
      "Epoch 120 MSE is 0.2499096393585205\n",
      "Epoch 120 accuracy(%) is 48.979591369628906\n",
      "Epoch 130 MSE is 0.24989649653434753\n",
      "Epoch 130 accuracy(%) is 48.979591369628906\n",
      "Epoch 140 MSE is 0.24989652633666992\n",
      "Epoch 140 accuracy(%) is 48.979591369628906\n",
      "Epoch 150 MSE is 0.24989643692970276\n",
      "Epoch 150 accuracy(%) is 48.979591369628906\n",
      "Epoch 160 MSE is 0.24989596009254456\n",
      "Epoch 160 accuracy(%) is 48.979591369628906\n",
      "Epoch 170 MSE is 0.24989591538906097\n",
      "Epoch 170 accuracy(%) is 48.979591369628906\n",
      "Epoch 180 MSE is 0.24989591538906097\n",
      "Epoch 180 accuracy(%) is 48.979591369628906\n",
      "Epoch 190 MSE is 0.2498958557844162\n",
      "Epoch 190 accuracy(%) is 48.979591369628906\n",
      "Epoch 200 MSE is 0.24989591538906097\n",
      "Epoch 200 accuracy(%) is 48.979591369628906\n",
      "Epoch 210 MSE is 0.2498958557844162\n",
      "Epoch 210 accuracy(%) is 48.979591369628906\n",
      "Epoch 220 MSE is 0.249895840883255\n",
      "Epoch 220 accuracy(%) is 48.979591369628906\n",
      "Epoch 230 MSE is 0.2498958855867386\n",
      "Epoch 230 accuracy(%) is 48.979591369628906\n",
      "Epoch 240 MSE is 0.2498958557844162\n",
      "Epoch 240 accuracy(%) is 48.979591369628906\n",
      "Epoch 250 MSE is 0.2498958706855774\n",
      "Epoch 250 accuracy(%) is 48.979591369628906\n",
      "Epoch 260 MSE is 0.2498958706855774\n",
      "Epoch 260 accuracy(%) is 48.979591369628906\n",
      "Epoch 270 MSE is 0.2498958855867386\n",
      "Epoch 270 accuracy(%) is 48.979591369628906\n",
      "Epoch 280 MSE is 0.2498958557844162\n",
      "Epoch 280 accuracy(%) is 48.979591369628906\n",
      "Epoch 290 MSE is 0.24989591538906097\n",
      "Epoch 290 accuracy(%) is 48.979591369628906\n",
      "Epoch 300 MSE is 0.2498958557844162\n",
      "Epoch 300 accuracy(%) is 48.979591369628906\n",
      "Epoch 310 MSE is 0.24989591538906097\n",
      "Epoch 310 accuracy(%) is 48.979591369628906\n",
      "Epoch 320 MSE is 0.2498958855867386\n",
      "Epoch 320 accuracy(%) is 48.979591369628906\n",
      "Epoch 330 MSE is 0.2498958557844162\n",
      "Epoch 330 accuracy(%) is 48.979591369628906\n",
      "Epoch 340 MSE is 0.2498958557844162\n",
      "Epoch 340 accuracy(%) is 48.979591369628906\n",
      "Epoch 350 MSE is 0.24989591538906097\n",
      "Epoch 350 accuracy(%) is 48.979591369628906\n",
      "Epoch 360 MSE is 0.2498958855867386\n",
      "Epoch 360 accuracy(%) is 48.979591369628906\n",
      "Epoch 370 MSE is 0.2498958557844162\n",
      "Epoch 370 accuracy(%) is 48.979591369628906\n",
      "Epoch 380 MSE is 0.2498958557844162\n",
      "Epoch 380 accuracy(%) is 48.979591369628906\n",
      "Epoch 390 MSE is 0.249895840883255\n",
      "Epoch 390 accuracy(%) is 48.979591369628906\n",
      "Epoch 400 MSE is 0.249895840883255\n",
      "Epoch 400 accuracy(%) is 48.979591369628906\n",
      "Epoch 410 MSE is 0.2498958557844162\n",
      "Epoch 410 accuracy(%) is 48.979591369628906\n",
      "Epoch 420 MSE is 0.2498958557844162\n",
      "Epoch 420 accuracy(%) is 48.979591369628906\n",
      "Epoch 430 MSE is 0.2498958557844162\n",
      "Epoch 430 accuracy(%) is 48.979591369628906\n",
      "Epoch 440 MSE is 0.2498958706855774\n",
      "Epoch 440 accuracy(%) is 48.979591369628906\n",
      "Epoch 450 MSE is 0.249895840883255\n",
      "Epoch 450 accuracy(%) is 48.979591369628906\n",
      "Epoch 460 MSE is 0.24989591538906097\n",
      "Epoch 460 accuracy(%) is 48.979591369628906\n",
      "Epoch 470 MSE is 0.2498958706855774\n",
      "Epoch 470 accuracy(%) is 48.979591369628906\n",
      "Epoch 480 MSE is 0.249895840883255\n",
      "Epoch 480 accuracy(%) is 48.979591369628906\n",
      "Epoch 490 MSE is 0.2498958855867386\n",
      "Epoch 490 accuracy(%) is 48.979591369628906\n",
      "Epoch 500 MSE is 0.2498958557844162\n",
      "Epoch 500 accuracy(%) is 48.979591369628906\n",
      "Epoch 510 MSE is 0.2498958855867386\n",
      "Epoch 510 accuracy(%) is 48.979591369628906\n",
      "Epoch 520 MSE is 0.2498958706855774\n",
      "Epoch 520 accuracy(%) is 48.979591369628906\n",
      "Epoch 530 MSE is 0.249895840883255\n",
      "Epoch 530 accuracy(%) is 48.979591369628906\n",
      "Epoch 540 MSE is 0.2498958855867386\n",
      "Epoch 540 accuracy(%) is 48.979591369628906\n",
      "Epoch 550 MSE is 0.24989591538906097\n",
      "Epoch 550 accuracy(%) is 48.979591369628906\n",
      "Epoch 560 MSE is 0.2498958706855774\n",
      "Epoch 560 accuracy(%) is 48.979591369628906\n",
      "Epoch 570 MSE is 0.2498958706855774\n",
      "Epoch 570 accuracy(%) is 48.979591369628906\n",
      "Epoch 580 MSE is 0.2498958557844162\n",
      "Epoch 580 accuracy(%) is 48.979591369628906\n",
      "Epoch 590 MSE is 0.2498968541622162\n",
      "Epoch 590 accuracy(%) is 48.979591369628906\n",
      "Epoch 600 MSE is 0.24990898370742798\n",
      "Epoch 600 accuracy(%) is 48.979591369628906\n",
      "Epoch 610 MSE is 0.2499026507139206\n",
      "Epoch 610 accuracy(%) is 48.979591369628906\n",
      "Epoch 620 MSE is 0.24989785254001617\n",
      "Epoch 620 accuracy(%) is 48.979591369628906\n",
      "Epoch 630 MSE is 0.24989625811576843\n",
      "Epoch 630 accuracy(%) is 48.979591369628906\n",
      "Epoch 640 MSE is 0.24989591538906097\n",
      "Epoch 640 accuracy(%) is 48.979591369628906\n",
      "Epoch 650 MSE is 0.2498958706855774\n",
      "Epoch 650 accuracy(%) is 48.979591369628906\n",
      "Epoch 660 MSE is 0.249895840883255\n",
      "Epoch 660 accuracy(%) is 48.979591369628906\n",
      "Epoch 670 MSE is 0.2498958706855774\n",
      "Epoch 670 accuracy(%) is 48.979591369628906\n",
      "Epoch 680 MSE is 0.24989591538906097\n",
      "Epoch 680 accuracy(%) is 48.979591369628906\n",
      "Epoch 690 MSE is 0.2498958706855774\n",
      "Epoch 690 accuracy(%) is 48.979591369628906\n",
      "Epoch 700 MSE is 0.249895840883255\n",
      "Epoch 700 accuracy(%) is 48.979591369628906\n",
      "Epoch 710 MSE is 0.2498958855867386\n",
      "Epoch 710 accuracy(%) is 48.979591369628906\n",
      "Epoch 720 MSE is 0.2498958706855774\n",
      "Epoch 720 accuracy(%) is 48.979591369628906\n",
      "Epoch 730 MSE is 0.2498958855867386\n",
      "Epoch 730 accuracy(%) is 48.979591369628906\n",
      "Epoch 740 MSE is 0.2498958706855774\n",
      "Epoch 740 accuracy(%) is 48.979591369628906\n",
      "Epoch 750 MSE is 0.2498958706855774\n",
      "Epoch 750 accuracy(%) is 48.979591369628906\n",
      "Epoch 760 MSE is 0.2498958557844162\n",
      "Epoch 760 accuracy(%) is 48.979591369628906\n",
      "Epoch 770 MSE is 0.2498958706855774\n",
      "Epoch 770 accuracy(%) is 48.979591369628906\n",
      "Epoch 780 MSE is 0.2498958706855774\n",
      "Epoch 780 accuracy(%) is 48.979591369628906\n",
      "Epoch 790 MSE is 0.24989591538906097\n",
      "Epoch 790 accuracy(%) is 48.979591369628906\n",
      "Epoch 800 MSE is 0.2498958557844162\n",
      "Epoch 800 accuracy(%) is 48.979591369628906\n",
      "Epoch 810 MSE is 0.2498958855867386\n",
      "Epoch 810 accuracy(%) is 48.979591369628906\n",
      "Epoch 820 MSE is 0.2498958557844162\n",
      "Epoch 820 accuracy(%) is 48.979591369628906\n",
      "Epoch 830 MSE is 0.249895840883255\n",
      "Epoch 830 accuracy(%) is 48.979591369628906\n",
      "Epoch 840 MSE is 0.2498958855867386\n",
      "Epoch 840 accuracy(%) is 48.979591369628906\n",
      "Epoch 850 MSE is 0.2498958706855774\n",
      "Epoch 850 accuracy(%) is 48.979591369628906\n",
      "Epoch 860 MSE is 0.2498958557844162\n",
      "Epoch 860 accuracy(%) is 48.979591369628906\n",
      "Epoch 870 MSE is 0.2498958855867386\n",
      "Epoch 870 accuracy(%) is 48.979591369628906\n",
      "Epoch 880 MSE is 0.2498958706855774\n",
      "Epoch 880 accuracy(%) is 48.979591369628906\n",
      "Epoch 890 MSE is 0.2498958706855774\n",
      "Epoch 890 accuracy(%) is 48.979591369628906\n",
      "Epoch 900 MSE is 0.2498958706855774\n",
      "Epoch 900 accuracy(%) is 48.979591369628906\n",
      "Epoch 910 MSE is 0.24989621341228485\n",
      "Epoch 910 accuracy(%) is 48.979591369628906\n",
      "Epoch 920 MSE is 0.2499145269393921\n",
      "Epoch 920 accuracy(%) is 48.979591369628906\n",
      "Epoch 930 MSE is 0.2498982846736908\n",
      "Epoch 930 accuracy(%) is 48.979591369628906\n",
      "Epoch 940 MSE is 0.24989795684814453\n",
      "Epoch 940 accuracy(%) is 48.979591369628906\n",
      "Epoch 950 MSE is 0.2498963326215744\n",
      "Epoch 950 accuracy(%) is 48.979591369628906\n",
      "Epoch 960 MSE is 0.2498958855867386\n",
      "Epoch 960 accuracy(%) is 48.979591369628906\n",
      "Epoch 970 MSE is 0.2498958706855774\n",
      "Epoch 970 accuracy(%) is 48.979591369628906\n",
      "Epoch 980 MSE is 0.24989591538906097\n",
      "Epoch 980 accuracy(%) is 48.979591369628906\n",
      "Epoch 990 MSE is 0.2498958706855774\n",
      "Epoch 990 accuracy(%) is 48.979591369628906\n"
     ]
    }
   ],
   "source": [
    "def model_accuracy(predict,y):\n",
    "  true_predict=(predict==y).to_numpy()\n",
    "  acc=true_predict.sum()/len(true_predict)\n",
    " \n",
    "  return acc\n",
    "X,y = data.deepLearningInput('/Users/aneruthmohanasundaram/Documents/GitHub/Spam_Detection/Code/Data/Youtube01-Psy.csv')\n",
    "# Train model\n",
    "#####################\n",
    "num_epochs = 1000\n",
    "loss_val  = np.zeros(num_epochs)\n",
    "acc_val  = np.zeros(num_epochs)\n",
    "\n",
    "for t in range(num_epochs):\n",
    "    # Forward pass\n",
    "    y_train_pred = model(x_train)\n",
    "\n",
    "    loss = loss_fn(y_train_pred, y_train)\n",
    "    if t % 10 == 0 and t !=0:\n",
    "        print(f\"Epoch {t} MSE is {loss.item()}\")\n",
    "    loss_val[t] = loss.item()\n",
    "    \n",
    "    pred = torch.max(y_train_pred, 1)[1].eq(y_train).sum()\n",
    "    # pred = model_accuracy(y_train_pred,y)\n",
    "    if t % 10 == 0 and t !=0:\n",
    "        print(f\"Epoch {t} accuracy(%) is {(100*pred/len(y_train)).item()}\")\n",
    "    acc_val[t] = (100*pred/len(y_train)).item()\n",
    "    # Zero out gradient, else they will accumulate between epochs\n",
    "    optimiser.zero_grad()\n",
    "\n",
    "    # Backward pass\n",
    "    loss.backward()\n",
    "\n",
    "    # Update parameters\n",
    "    optimiser.step()"
   ]
  },
  {
   "cell_type": "code",
   "execution_count": 127,
   "metadata": {},
   "outputs": [
    {
     "data": {
      "image/png": "[encoded data removed]",
      "text/plain": [
       "<Figure size 432x288 with 1 Axes>"
      ]
     },
     "metadata": {
      "needs_background": "light"
     },
     "output_type": "display_data"
    }
   ],
   "source": [
    "import matplotlib.pyplot as plt\n",
    "%matplotlib inline\n",
    "plt.plot(loss_val, label=\"Training loss\")\n",
    "plt.legend()\n",
    "plt.show()"
   ]
  },
  {
   "cell_type": "code",
   "execution_count": 128,
   "metadata": {},
   "outputs": [
    {
     "data": {
      "image/png": "[encoded data removed]",
      "text/plain": [
       "<Figure size 432x288 with 1 Axes>"
      ]
     },
     "metadata": {
      "needs_background": "light"
     },
     "output_type": "display_data"
    }
   ],
   "source": [
    "import matplotlib.pyplot as plt\n",
    "%matplotlib inline\n",
    "plt.plot(acc_val, label=\"Accuracy\")\n",
    "plt.legend()\n",
    "plt.show()"
   ]
  },
  {
   "cell_type": "code",
   "execution_count": 1,
   "metadata": {},
   "outputs": [
    {
     "data": {
      "text/plain": [
       "'0Aneruth'"
      ]
     },
     "execution_count": 1,
     "metadata": {},
     "output_type": "execute_result"
    }
   ],
   "source": [
    "f'{0}Aneruth'"
   ]
  },
  {
   "cell_type": "code",
   "execution_count": null,
   "metadata": {},
   "outputs": [],
   "source": []
  }
 ],
 "metadata": {
  "interpreter": {
   "hash": "0adcc2737ebf6a4a119f135174df96668767fca1ef1112612db5ecadf2b6d608"
  },
  "kernelspec": {
   "display_name": "Python 3.8.5 64-bit",
   "language": "python",
   "name": "python3"
  },
  "language_info": {
   "codemirror_mode": {
    "name": "ipython",
    "version": 3
   },
   "file_extension": ".py",
   "mimetype": "text/x-python",
   "name": "python",
   "nbconvert_exporter": "python",
   "pygments_lexer": "ipython3",
   "version": "3.8.5"
  },
  "orig_nbformat": 4
 },
 "nbformat": 4,
 "nbformat_minor": 2
}
