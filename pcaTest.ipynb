{
 "cells": [
  {
   "cell_type": "code",
   "execution_count": 1,
   "metadata": {},
   "outputs": [],
   "source": [
    "from Code.Preprocess.DataPreparation import dataPrepare\n",
    "from sklearn.preprocessing import StandardScaler\n",
    "from sklearn.decomposition import PCA\n",
    "\n",
    "from keras.models import Sequential\n",
    "from keras.utils import np_utils\n",
    "from keras.layers import Dense, Dropout\n",
    "\n",
    "import matplotlib.pyplot as plt\n",
    "%matplotlib inline"
   ]
  },
  {
   "cell_type": "code",
   "execution_count": 2,
   "metadata": {},
   "outputs": [],
   "source": [
    "data = dataPrepare()\n",
    "X_train, X_test, y_train, y_test =  data.Vectorizer('/Users/aneruthmohanasundaram/Documents/GitHub/Spam_Detection/Code/Data/Youtube01-Psy.csv')"
   ]
  },
  {
   "cell_type": "code",
   "execution_count": 14,
   "metadata": {},
   "outputs": [],
   "source": [
    "scaler = StandardScaler()\n",
    "scaler.fit(X_train.toarray())\n",
    "X_sc_train = scaler.transform(X_train.toarray())\n",
    "X_sc_test = scaler.transform(X_test.toarray())"
   ]
  },
  {
   "cell_type": "code",
   "execution_count": 18,
   "metadata": {},
   "outputs": [
    {
     "data": {
      "text/plain": [
       "Text(0, 0.5, 'Cumulative explained variance')"
      ]
     },
     "execution_count": 18,
     "metadata": {},
     "output_type": "execute_result"
    },
    {
     "data": {
      "image/png": "[encoded data removed]",
      "text/plain": [
       "<Figure size 432x288 with 1 Axes>"
      ]
     },
     "metadata": {
      "needs_background": "light"
     },
     "output_type": "display_data"
    }
   ],
   "source": [
    "import numpy as np\n",
    "pca = PCA(n_components=245) # To total number of rows present\n",
    "pca.fit(X_train.toarray())\n",
    "\n",
    "plt.plot(np.cumsum(pca.explained_variance_ratio_))\n",
    "plt.xlabel('Number of components')\n",
    "plt.ylabel('Cumulative explained variance')"
   ]
  },
  {
   "cell_type": "code",
   "execution_count": 19,
   "metadata": {},
   "outputs": [
    {
     "name": "stdout",
     "output_type": "stream",
     "text": [
      "(245, 1010)\n",
      "(245, 100)\n"
     ]
    }
   ],
   "source": [
    "NCOMPONENTS = 100\n",
    "\n",
    "pca = PCA(n_components=NCOMPONENTS)\n",
    "X_pca_train = pca.fit_transform(X_sc_train)\n",
    "X_pca_test = pca.transform(X_sc_test)\n",
    "pca_std = np.std(X_pca_train)\n",
    "\n",
    "print(X_sc_train.shape)\n",
    "print(X_pca_train.shape)"
   ]
  },
  {
   "cell_type": "code",
   "execution_count": 20,
   "metadata": {},
   "outputs": [],
   "source": [
    "inv_pca = pca.inverse_transform(X_pca_train)\n",
    "inv_sc = scaler.inverse_transform(inv_pca)"
   ]
  },
  {
   "cell_type": "code",
   "execution_count": 46,
   "metadata": {},
   "outputs": [
    {
     "name": "stdout",
     "output_type": "stream",
     "text": [
      "Epoch 1/100\n",
      "1/1 - 0s - loss: 1.1258 - accuracy: 0.5048 - val_loss: 0.7632 - val_accuracy: 0.4595 - 457ms/epoch - 457ms/step\n",
      "Epoch 2/100\n",
      "1/1 - 0s - loss: 1.1055 - accuracy: 0.5481 - val_loss: 0.7658 - val_accuracy: 0.4324 - 16ms/epoch - 16ms/step\n",
      "Epoch 3/100\n",
      "1/1 - 0s - loss: 1.0637 - accuracy: 0.5096 - val_loss: 0.7669 - val_accuracy: 0.4324 - 17ms/epoch - 17ms/step\n",
      "Epoch 4/100\n",
      "1/1 - 0s - loss: 1.1295 - accuracy: 0.5048 - val_loss: 0.7676 - val_accuracy: 0.4324 - 18ms/epoch - 18ms/step\n",
      "Epoch 5/100\n",
      "1/1 - 0s - loss: 1.1354 - accuracy: 0.5240 - val_loss: 0.7677 - val_accuracy: 0.4324 - 23ms/epoch - 23ms/step\n",
      "Epoch 6/100\n",
      "1/1 - 0s - loss: 1.0833 - accuracy: 0.5240 - val_loss: 0.7679 - val_accuracy: 0.4324 - 21ms/epoch - 21ms/step\n",
      "Epoch 7/100\n",
      "1/1 - 0s - loss: 1.1319 - accuracy: 0.5337 - val_loss: 0.7682 - val_accuracy: 0.4595 - 24ms/epoch - 24ms/step\n",
      "Epoch 8/100\n",
      "1/1 - 0s - loss: 1.1670 - accuracy: 0.4567 - val_loss: 0.7683 - val_accuracy: 0.4865 - 22ms/epoch - 22ms/step\n",
      "Epoch 9/100\n",
      "1/1 - 0s - loss: 1.0528 - accuracy: 0.5144 - val_loss: 0.7685 - val_accuracy: 0.4865 - 22ms/epoch - 22ms/step\n",
      "Epoch 10/100\n",
      "1/1 - 0s - loss: 1.0956 - accuracy: 0.5240 - val_loss: 0.7691 - val_accuracy: 0.4865 - 20ms/epoch - 20ms/step\n",
      "Epoch 11/100\n",
      "1/1 - 0s - loss: 1.0072 - accuracy: 0.5096 - val_loss: 0.7695 - val_accuracy: 0.4865 - 24ms/epoch - 24ms/step\n",
      "Epoch 12/100\n",
      "1/1 - 0s - loss: 0.9304 - accuracy: 0.5625 - val_loss: 0.7697 - val_accuracy: 0.4865 - 23ms/epoch - 23ms/step\n",
      "Epoch 13/100\n",
      "1/1 - 0s - loss: 1.0806 - accuracy: 0.5192 - val_loss: 0.7700 - val_accuracy: 0.4865 - 21ms/epoch - 21ms/step\n",
      "Epoch 14/100\n",
      "1/1 - 0s - loss: 0.9950 - accuracy: 0.5192 - val_loss: 0.7703 - val_accuracy: 0.4865 - 19ms/epoch - 19ms/step\n",
      "Epoch 15/100\n",
      "1/1 - 0s - loss: 1.1544 - accuracy: 0.4856 - val_loss: 0.7704 - val_accuracy: 0.4865 - 19ms/epoch - 19ms/step\n",
      "Epoch 16/100\n",
      "1/1 - 0s - loss: 1.0523 - accuracy: 0.4808 - val_loss: 0.7703 - val_accuracy: 0.4865 - 20ms/epoch - 20ms/step\n",
      "Epoch 17/100\n",
      "1/1 - 0s - loss: 1.0220 - accuracy: 0.5433 - val_loss: 0.7705 - val_accuracy: 0.4865 - 42ms/epoch - 42ms/step\n",
      "Epoch 18/100\n",
      "1/1 - 0s - loss: 0.9270 - accuracy: 0.5673 - val_loss: 0.7705 - val_accuracy: 0.4865 - 21ms/epoch - 21ms/step\n",
      "Epoch 19/100\n",
      "1/1 - 0s - loss: 1.1762 - accuracy: 0.4663 - val_loss: 0.7705 - val_accuracy: 0.4865 - 21ms/epoch - 21ms/step\n",
      "Epoch 20/100\n",
      "1/1 - 0s - loss: 0.9397 - accuracy: 0.5433 - val_loss: 0.7702 - val_accuracy: 0.4865 - 19ms/epoch - 19ms/step\n",
      "Epoch 21/100\n",
      "1/1 - 0s - loss: 1.0601 - accuracy: 0.4712 - val_loss: 0.7700 - val_accuracy: 0.4865 - 18ms/epoch - 18ms/step\n",
      "Epoch 22/100\n",
      "1/1 - 0s - loss: 0.9502 - accuracy: 0.5481 - val_loss: 0.7700 - val_accuracy: 0.4865 - 20ms/epoch - 20ms/step\n",
      "Epoch 23/100\n",
      "1/1 - 0s - loss: 0.8713 - accuracy: 0.6106 - val_loss: 0.7695 - val_accuracy: 0.4865 - 19ms/epoch - 19ms/step\n",
      "Epoch 24/100\n",
      "1/1 - 0s - loss: 1.1232 - accuracy: 0.4135 - val_loss: 0.7691 - val_accuracy: 0.4865 - 18ms/epoch - 18ms/step\n",
      "Epoch 25/100\n",
      "1/1 - 0s - loss: 0.9459 - accuracy: 0.5673 - val_loss: 0.7686 - val_accuracy: 0.4865 - 18ms/epoch - 18ms/step\n",
      "Epoch 26/100\n",
      "1/1 - 0s - loss: 0.8553 - accuracy: 0.5625 - val_loss: 0.7680 - val_accuracy: 0.4865 - 21ms/epoch - 21ms/step\n",
      "Epoch 27/100\n",
      "1/1 - 0s - loss: 1.0253 - accuracy: 0.4952 - val_loss: 0.7674 - val_accuracy: 0.4865 - 19ms/epoch - 19ms/step\n",
      "Epoch 28/100\n",
      "1/1 - 0s - loss: 0.9291 - accuracy: 0.5529 - val_loss: 0.7664 - val_accuracy: 0.4865 - 18ms/epoch - 18ms/step\n",
      "Epoch 29/100\n",
      "1/1 - 0s - loss: 0.8856 - accuracy: 0.5385 - val_loss: 0.7657 - val_accuracy: 0.4595 - 18ms/epoch - 18ms/step\n",
      "Epoch 30/100\n",
      "1/1 - 0s - loss: 0.9955 - accuracy: 0.4856 - val_loss: 0.7649 - val_accuracy: 0.4595 - 18ms/epoch - 18ms/step\n",
      "Epoch 31/100\n",
      "1/1 - 0s - loss: 0.9709 - accuracy: 0.5288 - val_loss: 0.7644 - val_accuracy: 0.4595 - 18ms/epoch - 18ms/step\n",
      "Epoch 32/100\n",
      "1/1 - 0s - loss: 0.8555 - accuracy: 0.5385 - val_loss: 0.7639 - val_accuracy: 0.4595 - 19ms/epoch - 19ms/step\n",
      "Epoch 33/100\n",
      "1/1 - 0s - loss: 0.9378 - accuracy: 0.5192 - val_loss: 0.7633 - val_accuracy: 0.4595 - 18ms/epoch - 18ms/step\n",
      "Epoch 34/100\n",
      "1/1 - 0s - loss: 0.9037 - accuracy: 0.5385 - val_loss: 0.7629 - val_accuracy: 0.4595 - 18ms/epoch - 18ms/step\n",
      "Epoch 35/100\n",
      "1/1 - 0s - loss: 0.8188 - accuracy: 0.6394 - val_loss: 0.7627 - val_accuracy: 0.4595 - 17ms/epoch - 17ms/step\n",
      "Epoch 36/100\n",
      "1/1 - 0s - loss: 0.8383 - accuracy: 0.5288 - val_loss: 0.7625 - val_accuracy: 0.4595 - 16ms/epoch - 16ms/step\n",
      "Epoch 37/100\n",
      "1/1 - 0s - loss: 0.9088 - accuracy: 0.5529 - val_loss: 0.7622 - val_accuracy: 0.4595 - 16ms/epoch - 16ms/step\n",
      "Epoch 38/100\n",
      "1/1 - 0s - loss: 0.8304 - accuracy: 0.5721 - val_loss: 0.7618 - val_accuracy: 0.4595 - 16ms/epoch - 16ms/step\n",
      "Epoch 39/100\n",
      "1/1 - 0s - loss: 0.9005 - accuracy: 0.5433 - val_loss: 0.7616 - val_accuracy: 0.4595 - 17ms/epoch - 17ms/step\n",
      "Epoch 40/100\n",
      "1/1 - 0s - loss: 0.8701 - accuracy: 0.5240 - val_loss: 0.7617 - val_accuracy: 0.4595 - 18ms/epoch - 18ms/step\n",
      "Epoch 41/100\n",
      "1/1 - 0s - loss: 0.9895 - accuracy: 0.5433 - val_loss: 0.7618 - val_accuracy: 0.4865 - 17ms/epoch - 17ms/step\n",
      "Epoch 42/100\n",
      "1/1 - 0s - loss: 0.9011 - accuracy: 0.4856 - val_loss: 0.7618 - val_accuracy: 0.4865 - 21ms/epoch - 21ms/step\n",
      "Epoch 43/100\n",
      "1/1 - 0s - loss: 0.8726 - accuracy: 0.5577 - val_loss: 0.7620 - val_accuracy: 0.4865 - 20ms/epoch - 20ms/step\n",
      "Epoch 44/100\n",
      "1/1 - 0s - loss: 0.8048 - accuracy: 0.5577 - val_loss: 0.7624 - val_accuracy: 0.4865 - 18ms/epoch - 18ms/step\n",
      "Epoch 45/100\n",
      "1/1 - 0s - loss: 0.9457 - accuracy: 0.5288 - val_loss: 0.7626 - val_accuracy: 0.4865 - 17ms/epoch - 17ms/step\n",
      "Epoch 46/100\n",
      "1/1 - 0s - loss: 0.8803 - accuracy: 0.5096 - val_loss: 0.7629 - val_accuracy: 0.4865 - 19ms/epoch - 19ms/step\n",
      "Epoch 47/100\n",
      "1/1 - 0s - loss: 0.8456 - accuracy: 0.5288 - val_loss: 0.7632 - val_accuracy: 0.4865 - 19ms/epoch - 19ms/step\n",
      "Epoch 48/100\n",
      "1/1 - 0s - loss: 0.9218 - accuracy: 0.5144 - val_loss: 0.7634 - val_accuracy: 0.4865 - 18ms/epoch - 18ms/step\n",
      "Epoch 49/100\n",
      "1/1 - 0s - loss: 0.8269 - accuracy: 0.5529 - val_loss: 0.7634 - val_accuracy: 0.4865 - 19ms/epoch - 19ms/step\n",
      "Epoch 50/100\n",
      "1/1 - 0s - loss: 0.7481 - accuracy: 0.5817 - val_loss: 0.7635 - val_accuracy: 0.4865 - 19ms/epoch - 19ms/step\n",
      "Epoch 51/100\n",
      "1/1 - 0s - loss: 0.8121 - accuracy: 0.5625 - val_loss: 0.7634 - val_accuracy: 0.4865 - 17ms/epoch - 17ms/step\n",
      "Epoch 52/100\n",
      "1/1 - 0s - loss: 0.8019 - accuracy: 0.6010 - val_loss: 0.7634 - val_accuracy: 0.4865 - 18ms/epoch - 18ms/step\n",
      "Epoch 53/100\n",
      "1/1 - 0s - loss: 0.8923 - accuracy: 0.5192 - val_loss: 0.7633 - val_accuracy: 0.4865 - 19ms/epoch - 19ms/step\n",
      "Epoch 54/100\n",
      "1/1 - 0s - loss: 0.7303 - accuracy: 0.6298 - val_loss: 0.7632 - val_accuracy: 0.4865 - 22ms/epoch - 22ms/step\n",
      "Epoch 55/100\n",
      "1/1 - 0s - loss: 0.7794 - accuracy: 0.6010 - val_loss: 0.7631 - val_accuracy: 0.4865 - 18ms/epoch - 18ms/step\n",
      "Epoch 56/100\n",
      "1/1 - 0s - loss: 0.7928 - accuracy: 0.5817 - val_loss: 0.7632 - val_accuracy: 0.4865 - 18ms/epoch - 18ms/step\n",
      "Epoch 57/100\n",
      "1/1 - 0s - loss: 0.8458 - accuracy: 0.5433 - val_loss: 0.7633 - val_accuracy: 0.4865 - 19ms/epoch - 19ms/step\n",
      "Epoch 58/100\n",
      "1/1 - 0s - loss: 0.8101 - accuracy: 0.5481 - val_loss: 0.7635 - val_accuracy: 0.4865 - 18ms/epoch - 18ms/step\n",
      "Epoch 59/100\n",
      "1/1 - 0s - loss: 0.8279 - accuracy: 0.5769 - val_loss: 0.7634 - val_accuracy: 0.4865 - 18ms/epoch - 18ms/step\n",
      "Epoch 60/100\n",
      "1/1 - 0s - loss: 0.6831 - accuracy: 0.6058 - val_loss: 0.7635 - val_accuracy: 0.4865 - 16ms/epoch - 16ms/step\n",
      "Epoch 61/100\n",
      "1/1 - 0s - loss: 0.8308 - accuracy: 0.5625 - val_loss: 0.7635 - val_accuracy: 0.4865 - 15ms/epoch - 15ms/step\n",
      "Epoch 62/100\n",
      "1/1 - 0s - loss: 0.7226 - accuracy: 0.6106 - val_loss: 0.7636 - val_accuracy: 0.4865 - 16ms/epoch - 16ms/step\n",
      "Epoch 63/100\n",
      "1/1 - 0s - loss: 0.9173 - accuracy: 0.5481 - val_loss: 0.7637 - val_accuracy: 0.4865 - 19ms/epoch - 19ms/step\n",
      "Epoch 64/100\n",
      "1/1 - 0s - loss: 0.9266 - accuracy: 0.5096 - val_loss: 0.7639 - val_accuracy: 0.4865 - 20ms/epoch - 20ms/step\n",
      "Epoch 65/100\n",
      "1/1 - 0s - loss: 0.7879 - accuracy: 0.5625 - val_loss: 0.7641 - val_accuracy: 0.4865 - 18ms/epoch - 18ms/step\n",
      "Epoch 66/100\n",
      "1/1 - 0s - loss: 0.8034 - accuracy: 0.5769 - val_loss: 0.7643 - val_accuracy: 0.4865 - 18ms/epoch - 18ms/step\n",
      "Epoch 67/100\n",
      "1/1 - 0s - loss: 0.8253 - accuracy: 0.5865 - val_loss: 0.7646 - val_accuracy: 0.4865 - 17ms/epoch - 17ms/step\n",
      "Epoch 68/100\n",
      "1/1 - 0s - loss: 0.7704 - accuracy: 0.5865 - val_loss: 0.7649 - val_accuracy: 0.4865 - 18ms/epoch - 18ms/step\n",
      "Epoch 69/100\n",
      "1/1 - 0s - loss: 0.7602 - accuracy: 0.5721 - val_loss: 0.7649 - val_accuracy: 0.4865 - 16ms/epoch - 16ms/step\n",
      "Epoch 70/100\n",
      "1/1 - 0s - loss: 0.7612 - accuracy: 0.5962 - val_loss: 0.7649 - val_accuracy: 0.4865 - 16ms/epoch - 16ms/step\n",
      "Epoch 71/100\n",
      "1/1 - 0s - loss: 0.9106 - accuracy: 0.5240 - val_loss: 0.7647 - val_accuracy: 0.4865 - 20ms/epoch - 20ms/step\n",
      "Epoch 72/100\n",
      "1/1 - 0s - loss: 0.8889 - accuracy: 0.5817 - val_loss: 0.7645 - val_accuracy: 0.4865 - 17ms/epoch - 17ms/step\n",
      "Epoch 73/100\n",
      "1/1 - 0s - loss: 0.7291 - accuracy: 0.6010 - val_loss: 0.7646 - val_accuracy: 0.4865 - 20ms/epoch - 20ms/step\n",
      "Epoch 74/100\n",
      "1/1 - 0s - loss: 0.7479 - accuracy: 0.5673 - val_loss: 0.7646 - val_accuracy: 0.4865 - 18ms/epoch - 18ms/step\n",
      "Epoch 75/100\n",
      "1/1 - 0s - loss: 0.8632 - accuracy: 0.4952 - val_loss: 0.7645 - val_accuracy: 0.4865 - 16ms/epoch - 16ms/step\n",
      "Epoch 76/100\n",
      "1/1 - 0s - loss: 0.6874 - accuracy: 0.6298 - val_loss: 0.7643 - val_accuracy: 0.4865 - 16ms/epoch - 16ms/step\n",
      "Epoch 77/100\n",
      "1/1 - 0s - loss: 0.7292 - accuracy: 0.5385 - val_loss: 0.7640 - val_accuracy: 0.4865 - 14ms/epoch - 14ms/step\n",
      "Epoch 78/100\n",
      "1/1 - 0s - loss: 0.7032 - accuracy: 0.5865 - val_loss: 0.7637 - val_accuracy: 0.4865 - 15ms/epoch - 15ms/step\n",
      "Epoch 79/100\n",
      "1/1 - 0s - loss: 0.8100 - accuracy: 0.5240 - val_loss: 0.7634 - val_accuracy: 0.4865 - 21ms/epoch - 21ms/step\n",
      "Epoch 80/100\n",
      "1/1 - 0s - loss: 0.7719 - accuracy: 0.5962 - val_loss: 0.7632 - val_accuracy: 0.4865 - 26ms/epoch - 26ms/step\n",
      "Epoch 81/100\n",
      "1/1 - 0s - loss: 0.7444 - accuracy: 0.5673 - val_loss: 0.7628 - val_accuracy: 0.4865 - 22ms/epoch - 22ms/step\n",
      "Epoch 82/100\n",
      "1/1 - 0s - loss: 0.7386 - accuracy: 0.5769 - val_loss: 0.7624 - val_accuracy: 0.4865 - 19ms/epoch - 19ms/step\n",
      "Epoch 83/100\n",
      "1/1 - 0s - loss: 0.8242 - accuracy: 0.5817 - val_loss: 0.7621 - val_accuracy: 0.4865 - 20ms/epoch - 20ms/step\n",
      "Epoch 84/100\n",
      "1/1 - 0s - loss: 0.7267 - accuracy: 0.5769 - val_loss: 0.7617 - val_accuracy: 0.4865 - 19ms/epoch - 19ms/step\n",
      "Epoch 85/100\n",
      "1/1 - 0s - loss: 0.7260 - accuracy: 0.5529 - val_loss: 0.7612 - val_accuracy: 0.4865 - 19ms/epoch - 19ms/step\n",
      "Epoch 86/100\n",
      "1/1 - 0s - loss: 0.7806 - accuracy: 0.5769 - val_loss: 0.7607 - val_accuracy: 0.4865 - 20ms/epoch - 20ms/step\n",
      "Epoch 87/100\n",
      "1/1 - 0s - loss: 0.7452 - accuracy: 0.5769 - val_loss: 0.7601 - val_accuracy: 0.4865 - 21ms/epoch - 21ms/step\n",
      "Epoch 88/100\n",
      "1/1 - 0s - loss: 0.6600 - accuracy: 0.6490 - val_loss: 0.7597 - val_accuracy: 0.4865 - 17ms/epoch - 17ms/step\n",
      "Epoch 89/100\n",
      "1/1 - 0s - loss: 0.7928 - accuracy: 0.5769 - val_loss: 0.7592 - val_accuracy: 0.4865 - 20ms/epoch - 20ms/step\n",
      "Epoch 90/100\n",
      "1/1 - 0s - loss: 0.7509 - accuracy: 0.5817 - val_loss: 0.7587 - val_accuracy: 0.4865 - 18ms/epoch - 18ms/step\n",
      "Epoch 91/100\n",
      "1/1 - 0s - loss: 0.8375 - accuracy: 0.5577 - val_loss: 0.7583 - val_accuracy: 0.4865 - 20ms/epoch - 20ms/step\n",
      "Epoch 92/100\n",
      "1/1 - 0s - loss: 0.6911 - accuracy: 0.6010 - val_loss: 0.7579 - val_accuracy: 0.4865 - 24ms/epoch - 24ms/step\n",
      "Epoch 93/100\n",
      "1/1 - 0s - loss: 0.7446 - accuracy: 0.6202 - val_loss: 0.7574 - val_accuracy: 0.4865 - 19ms/epoch - 19ms/step\n",
      "Epoch 94/100\n",
      "1/1 - 0s - loss: 0.7706 - accuracy: 0.5721 - val_loss: 0.7568 - val_accuracy: 0.4865 - 18ms/epoch - 18ms/step\n",
      "Epoch 95/100\n",
      "1/1 - 0s - loss: 0.7146 - accuracy: 0.6010 - val_loss: 0.7562 - val_accuracy: 0.4865 - 18ms/epoch - 18ms/step\n",
      "Epoch 96/100\n",
      "1/1 - 0s - loss: 0.7379 - accuracy: 0.5673 - val_loss: 0.7557 - val_accuracy: 0.4865 - 16ms/epoch - 16ms/step\n",
      "Epoch 97/100\n",
      "1/1 - 0s - loss: 0.6894 - accuracy: 0.6298 - val_loss: 0.7553 - val_accuracy: 0.4865 - 16ms/epoch - 16ms/step\n",
      "Epoch 98/100\n",
      "1/1 - 0s - loss: 0.7040 - accuracy: 0.6106 - val_loss: 0.7548 - val_accuracy: 0.4865 - 15ms/epoch - 15ms/step\n",
      "Epoch 99/100\n",
      "1/1 - 0s - loss: 0.7669 - accuracy: 0.5817 - val_loss: 0.7545 - val_accuracy: 0.4865 - 16ms/epoch - 16ms/step\n",
      "Epoch 100/100\n",
      "1/1 - 0s - loss: 0.8225 - accuracy: 0.5144 - val_loss: 0.7544 - val_accuracy: 0.4865 - 14ms/epoch - 14ms/step\n"
     ]
    }
   ],
   "source": [
    "'''\n",
    "neural = Sequential()\n",
    "neural.add(Dense(12, input_dim = X_train.shape[1], activation='relu')) # our input feature count is 1010 then we need to reduce the diemensions\n",
    "neural.add(Dense(8, activation='relu'))\n",
    "neural.add(Dense(1, activation='sigmoid'))\n",
    "\n",
    "neural.compile(loss='binary_crossentropy', optimizer='adam', metrics=['accuracy'])\n",
    "'''\n",
    "from keras.layers import GaussianNoise\n",
    "y_train = np.asarray(y_train).astype('float32').reshape((-1,1))\n",
    "# https://stackoverflow.com/questions/48851558/tensorflow-estimator-valueerror-logits-and-labels-must-have-the-same-shape\n",
    "model = Sequential()\n",
    "# layers = 1\n",
    "# units = 128\n",
    "\n",
    "model.add(Dense(12, input_dim=NCOMPONENTS, activation='relu'))\n",
    "model.add(GaussianNoise(pca_std))\n",
    "model.add(Dense(8, activation='relu'))\n",
    "model.add(Dropout(0.1))\n",
    "model.add(Dense(1, activation='sigmoid'))\n",
    "\n",
    "# https://stackoverflow.com/questions/61742556/valueerror-shapes-none-1-and-none-2-are-incompatible\n",
    "model.compile(loss='binary_crossentropy', optimizer='adam', metrics=['accuracy'])\n",
    "\n",
    "his = model.fit(X_pca_train, y_train, epochs=100, batch_size=256, validation_split=0.15, verbose=2,validation_data=(X_pca_test, y_test), shuffle=True)"
   ]
  },
  {
   "cell_type": "code",
   "execution_count": 38,
   "metadata": {},
   "outputs": [],
   "source": [
    "predict_x = model.predict(X_pca_test)\n",
    "classes_x = np.argmax(predict_x,axis=1)"
   ]
  },
  {
   "cell_type": "code",
   "execution_count": 47,
   "metadata": {},
   "outputs": [
    {
     "data": {
      "text/plain": [
       "<matplotlib.legend.Legend at 0x7fc679078d60>"
      ]
     },
     "execution_count": 47,
     "metadata": {},
     "output_type": "execute_result"
    },
    {
     "data": {
      "image/png": "[encoded data removed]",
      "text/plain": [
       "<Figure size 432x288 with 1 Axes>"
      ]
     },
     "metadata": {
      "needs_background": "light"
     },
     "output_type": "display_data"
    }
   ],
   "source": [
    "# summarize history for accuracy\n",
    "plt.plot(his.history['accuracy'])\n",
    "plt.plot(his.history['val_accuracy'])\n",
    "plt.title('model accuracy')\n",
    "plt.ylabel('accuracy')\n",
    "plt.xlabel('epoch')\n",
    "plt.legend(['train', 'test'], loc='upper left')"
   ]
  },
  {
   "cell_type": "code",
   "execution_count": 48,
   "metadata": {},
   "outputs": [
    {
     "data": {
      "text/plain": [
       "<matplotlib.legend.Legend at 0x7fc679164a90>"
      ]
     },
     "execution_count": 48,
     "metadata": {},
     "output_type": "execute_result"
    },
    {
     "data": {
      "image/png": "[encoded data removed]",
      "text/plain": [
       "<Figure size 432x288 with 1 Axes>"
      ]
     },
     "metadata": {
      "needs_background": "light"
     },
     "output_type": "display_data"
    }
   ],
   "source": [
    "plt.plot(his.history['loss'])\n",
    "plt.plot(his.history['val_loss'])\n",
    "plt.title('model loss')\n",
    "plt.ylabel('loss')\n",
    "plt.xlabel('epoch')\n",
    "plt.legend(['train', 'test'], loc='upper left')"
   ]
  },
  {
   "cell_type": "code",
   "execution_count": 1,
   "metadata": {},
   "outputs": [],
   "source": [
    "import pandas as pd\n",
    "df = pd.read_csv('YoutubeComplete.csv',on_bad_lines='skip',delimiter='\\t')"
   ]
  },
  {
   "cell_type": "code",
   "execution_count": 2,
   "metadata": {},
   "outputs": [
    {
     "data": {
      "text/html": [
       "<div>\n",
       "<style scoped>\n",
       "    .dataframe tbody tr th:only-of-type {\n",
       "        vertical-align: middle;\n",
       "    }\n",
       "\n",
       "    .dataframe tbody tr th {\n",
       "        vertical-align: top;\n",
       "    }\n",
       "\n",
       "    .dataframe thead th {\n",
       "        text-align: right;\n",
       "    }\n",
       "</style>\n",
       "<table border=\"1\" class=\"dataframe\">\n",
       "  <thead>\n",
       "    <tr style=\"text-align: right;\">\n",
       "      <th></th>\n",
       "      <th>COMMENT_ID</th>\n",
       "      <th>AUTHOR</th>\n",
       "      <th>DATE</th>\n",
       "      <th>CONTENT</th>\n",
       "      <th>CLASS</th>\n",
       "    </tr>\n",
       "  </thead>\n",
       "  <tbody>\n",
       "    <tr>\n",
       "      <th>0</th>\n",
       "      <td>z12pgdhovmrktzm3i23es5d5junftft3f</td>\n",
       "      <td>lekanaVEVO1</td>\n",
       "      <td>2014-07-22T15:27:50</td>\n",
       "      <td>i love this so much. AND also I Generate Free ...</td>\n",
       "      <td>1.0</td>\n",
       "    </tr>\n",
       "    <tr>\n",
       "      <th>1</th>\n",
       "      <td>z13yx345uxepetggz04ci5rjcxeohzlrtf4</td>\n",
       "      <td>Pyunghee</td>\n",
       "      <td>2014-07-27T01:57:16</td>\n",
       "      <td>http://www.billboard.com/articles/columns/pop-...</td>\n",
       "      <td>1.0</td>\n",
       "    </tr>\n",
       "    <tr>\n",
       "      <th>2</th>\n",
       "      <td>z12lsjvi3wa5x1vwh04cibeaqnzrevxajw00k</td>\n",
       "      <td>Erica Ross</td>\n",
       "      <td>2014-07-27T02:51:43</td>\n",
       "      <td>Hey guys! Please join me in my fight to help a...</td>\n",
       "      <td>1.0</td>\n",
       "    </tr>\n",
       "    <tr>\n",
       "      <th>3</th>\n",
       "      <td>z13jcjuovxbwfr0ge04cev2ipsjdfdurwck</td>\n",
       "      <td>Aviel Haimov</td>\n",
       "      <td>2014-08-01T12:27:48</td>\n",
       "      <td>http://psnboss.com/?ref=2tGgp3pV6L this is the...</td>\n",
       "      <td>1.0</td>\n",
       "    </tr>\n",
       "    <tr>\n",
       "      <th>4</th>\n",
       "      <td>z13qybua2yfydzxzj04cgfpqdt2syfx53ms0k</td>\n",
       "      <td>John Bello</td>\n",
       "      <td>2014-08-01T21:04:03</td>\n",
       "      <td>Hey everyone. Watch this trailer!!!!!!!!  http...</td>\n",
       "      <td>1.0</td>\n",
       "    </tr>\n",
       "  </tbody>\n",
       "</table>\n",
       "</div>"
      ],
      "text/plain": [
       "                              COMMENT_ID        AUTHOR                 DATE  \\\n",
       "0      z12pgdhovmrktzm3i23es5d5junftft3f   lekanaVEVO1  2014-07-22T15:27:50   \n",
       "1    z13yx345uxepetggz04ci5rjcxeohzlrtf4      Pyunghee  2014-07-27T01:57:16   \n",
       "2  z12lsjvi3wa5x1vwh04cibeaqnzrevxajw00k    Erica Ross  2014-07-27T02:51:43   \n",
       "3    z13jcjuovxbwfr0ge04cev2ipsjdfdurwck  Aviel Haimov  2014-08-01T12:27:48   \n",
       "4  z13qybua2yfydzxzj04cgfpqdt2syfx53ms0k    John Bello  2014-08-01T21:04:03   \n",
       "\n",
       "                                             CONTENT  CLASS  \n",
       "0  i love this so much. AND also I Generate Free ...    1.0  \n",
       "1  http://www.billboard.com/articles/columns/pop-...    1.0  \n",
       "2  Hey guys! Please join me in my fight to help a...    1.0  \n",
       "3  http://psnboss.com/?ref=2tGgp3pV6L this is the...    1.0  \n",
       "4  Hey everyone. Watch this trailer!!!!!!!!  http...    1.0  "
      ]
     },
     "execution_count": 2,
     "metadata": {},
     "output_type": "execute_result"
    }
   ],
   "source": [
    "df.head()"
   ]
  },
  {
   "cell_type": "code",
   "execution_count": 8,
   "metadata": {},
   "outputs": [
    {
     "data": {
      "text/plain": [
       "(1956, 5)"
      ]
     },
     "execution_count": 8,
     "metadata": {},
     "output_type": "execute_result"
    }
   ],
   "source": [
    "df.shape"
   ]
  },
  {
   "cell_type": "code",
   "execution_count": 9,
   "metadata": {},
   "outputs": [
    {
     "data": {
      "text/plain": [
       "595"
      ]
     },
     "execution_count": 9,
     "metadata": {},
     "output_type": "execute_result"
    }
   ],
   "source": [
    "1956-1361"
   ]
  },
  {
   "cell_type": "code",
   "execution_count": null,
   "metadata": {},
   "outputs": [],
   "source": []
  }
 ],
 "metadata": {
  "interpreter": {
   "hash": "62b984ecf3fa21db91abb9ce3361d5af483ec95077de7660821dc35f86aea7e4"
  },
  "kernelspec": {
   "display_name": "Python 3.8.5 64-bit ('venv': venv)",
   "language": "python",
   "name": "python3"
  },
  "language_info": {
   "codemirror_mode": {
    "name": "ipython",
    "version": 3
   },
   "file_extension": ".py",
   "mimetype": "text/x-python",
   "name": "python",
   "nbconvert_exporter": "python",
   "pygments_lexer": "ipython3",
   "version": "3.8.5"
  },
  "orig_nbformat": 4
 },
 "nbformat": 4,
 "nbformat_minor": 2
}
