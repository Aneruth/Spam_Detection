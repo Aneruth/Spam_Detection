{
 "cells": [
  {
   "cell_type": "code",
   "execution_count": 2,
   "metadata": {},
   "outputs": [],
   "source": [
    "import pandas as pd\n",
    "import numpy as np\n",
    "from torch import nn\n",
    "import torch\n",
    "from torch.autograd import Variable\n",
    "from torch.utils.data import DataLoader, Dataset, TensorDataset\n",
    "from sklearn.model_selection import train_test_split\n",
    "from sklearn.metrics import accuracy_score\n",
    "import matplotlib.pyplot as plt\n",
    "from keras.preprocessing.text import Tokenizer\n",
    "import torch.nn.functional as F"
   ]
  },
  {
   "cell_type": "code",
   "execution_count": 3,
   "metadata": {},
   "outputs": [
    {
     "data": {
      "text/html": [
       "<div>\n",
       "<style scoped>\n",
       "    .dataframe tbody tr th:only-of-type {\n",
       "        vertical-align: middle;\n",
       "    }\n",
       "\n",
       "    .dataframe tbody tr th {\n",
       "        vertical-align: top;\n",
       "    }\n",
       "\n",
       "    .dataframe thead th {\n",
       "        text-align: right;\n",
       "    }\n",
       "</style>\n",
       "<table border=\"1\" class=\"dataframe\">\n",
       "  <thead>\n",
       "    <tr style=\"text-align: right;\">\n",
       "      <th></th>\n",
       "      <th>CONTENT</th>\n",
       "      <th>CLASS</th>\n",
       "    </tr>\n",
       "  </thead>\n",
       "  <tbody>\n",
       "    <tr>\n",
       "      <th>0</th>\n",
       "      <td>i love this so much. AND also I Generate Free ...</td>\n",
       "      <td>1.0</td>\n",
       "    </tr>\n",
       "    <tr>\n",
       "      <th>1</th>\n",
       "      <td>http://www.billboard.com/articles/columns/pop-...</td>\n",
       "      <td>1.0</td>\n",
       "    </tr>\n",
       "    <tr>\n",
       "      <th>2</th>\n",
       "      <td>Hey guys! Please join me in my fight to help a...</td>\n",
       "      <td>1.0</td>\n",
       "    </tr>\n",
       "    <tr>\n",
       "      <th>3</th>\n",
       "      <td>http://psnboss.com/?ref=2tGgp3pV6L this is the...</td>\n",
       "      <td>1.0</td>\n",
       "    </tr>\n",
       "    <tr>\n",
       "      <th>4</th>\n",
       "      <td>Hey everyone. Watch this trailer!!!!!!!!  http...</td>\n",
       "      <td>1.0</td>\n",
       "    </tr>\n",
       "  </tbody>\n",
       "</table>\n",
       "</div>"
      ],
      "text/plain": [
       "                                             CONTENT  CLASS\n",
       "0  i love this so much. AND also I Generate Free ...    1.0\n",
       "1  http://www.billboard.com/articles/columns/pop-...    1.0\n",
       "2  Hey guys! Please join me in my fight to help a...    1.0\n",
       "3  http://psnboss.com/?ref=2tGgp3pV6L this is the...    1.0\n",
       "4  Hey everyone. Watch this trailer!!!!!!!!  http...    1.0"
      ]
     },
     "execution_count": 3,
     "metadata": {},
     "output_type": "execute_result"
    }
   ],
   "source": [
    "data = pd.read_csv('YoutubeComplete.csv',delimiter='\\t')\n",
    "data = data[['CONTENT','CLASS']]\n",
    "\n",
    "# Drop na\n",
    "data = data.dropna()\n",
    "data.head()"
   ]
  },
  {
   "cell_type": "code",
   "execution_count": 4,
   "metadata": {},
   "outputs": [],
   "source": [
    "features = data.CONTENT.values\n",
    "labels = data.CLASS.values\n",
    "num_words = 1000"
   ]
  },
  {
   "cell_type": "code",
   "execution_count": 5,
   "metadata": {},
   "outputs": [],
   "source": [
    "t = Tokenizer(num_words=1000)\n",
    "t.fit_on_texts(features)"
   ]
  },
  {
   "cell_type": "code",
   "execution_count": 6,
   "metadata": {},
   "outputs": [],
   "source": [
    "features = t.texts_to_matrix(features, mode='tfidf')"
   ]
  },
  {
   "cell_type": "code",
   "execution_count": 7,
   "metadata": {},
   "outputs": [
    {
     "data": {
      "text/plain": [
       "(1606, 1000)"
      ]
     },
     "execution_count": 7,
     "metadata": {},
     "output_type": "execute_result"
    }
   ],
   "source": [
    "features.shape"
   ]
  },
  {
   "cell_type": "code",
   "execution_count": 8,
   "metadata": {},
   "outputs": [],
   "source": [
    "# Building model\n",
    "class Model(nn.Module):\n",
    "    def __init__(self, input, hidden, output):\n",
    "        super(Model, self).__init__()\n",
    "        self.l1 = nn.Linear(input, hidden)\n",
    "        self.l2 = nn.Linear(hidden , hidden)\n",
    "        self.l3 = nn.Linear(hidden, 2)\n",
    "    \n",
    "    def forward(self, x):\n",
    "        out = F.relu(self.l1(x))\n",
    "        out = F.relu(self.l2(out))\n",
    "        out = self.l3(out)\n",
    "        return out        "
   ]
  },
  {
   "cell_type": "code",
   "execution_count": 9,
   "metadata": {},
   "outputs": [],
   "source": [
    "input = 1000\n",
    "hidden = 100\n",
    "output = 2"
   ]
  },
  {
   "cell_type": "code",
   "execution_count": 10,
   "metadata": {},
   "outputs": [],
   "source": [
    "model = Model(input, hidden, output)"
   ]
  },
  {
   "cell_type": "code",
   "execution_count": 11,
   "metadata": {},
   "outputs": [],
   "source": [
    "features_train, features_test, labels_train, labels_test = train_test_split(features, labels, shuffle=True, random_state=34)\n"
   ]
  },
  {
   "cell_type": "code",
   "execution_count": 25,
   "metadata": {},
   "outputs": [],
   "source": [
    "optimizer = torch.optim.Adam(model.parameters(), lr=0.01)\n",
    "criterion = nn.CrossEntropyLoss()"
   ]
  },
  {
   "cell_type": "code",
   "execution_count": 20,
   "metadata": {},
   "outputs": [],
   "source": [
    "def train(epochs):\n",
    "    x_train = Variable(torch.from_numpy(features_train)).float()\n",
    "    y_train = Variable(torch.from_numpy(labels_train)).long()\n",
    "    model.train()\n",
    "    for epoch in range(epochs):\n",
    "        optimizer.zero_grad()\n",
    "        y_pred = model(x_train)\n",
    "        loss = criterion(y_pred, y_train)\n",
    "        print (\"epoch #\",epoch)\n",
    "        print (\"loss: \", loss.item())\n",
    "        pred = torch.max(y_pred, 1)[1].eq(y_train).sum()\n",
    "        print (\"acc:(%) \", 100*pred/len(x_train))\n",
    "        loss.backward()\n",
    "        optimizer.step()"
   ]
  },
  {
   "cell_type": "code",
   "execution_count": 21,
   "metadata": {},
   "outputs": [],
   "source": [
    "def test(epochs):\n",
    "    model.eval()\n",
    "    x_test = Variable(torch.from_numpy(features_test)).float()\n",
    "    y_test = Variable(torch.from_numpy(labels_test)).long()\n",
    "    for epoch in range(epochs):\n",
    "        with torch.no_grad():\n",
    "            y_pred = model(x_test)\n",
    "            loss = criterion(y_pred, y_test)\n",
    "            print (\"epoch #\",epoch)\n",
    "            print (\"loss: \", loss.item())\n",
    "            pred = torch.max(y_pred, 1)[1].eq(y_test).sum()\n",
    "            print (\"acc (%): \", 100*pred/len(x_test))"
   ]
  },
  {
   "cell_type": "code",
   "execution_count": 22,
   "metadata": {},
   "outputs": [
    {
     "name": "stdout",
     "output_type": "stream",
     "text": [
      "epoch # 0\n",
      "loss:  0.6999464631080627\n",
      "acc:(%)  tensor(40.0332)\n",
      "epoch # 1\n",
      "loss:  0.6065702438354492\n",
      "acc:(%)  tensor(50.0831)\n",
      "epoch # 2\n",
      "loss:  0.4859074056148529\n",
      "acc:(%)  tensor(77.9900)\n",
      "epoch # 3\n",
      "loss:  0.37152785062789917\n",
      "acc:(%)  tensor(94.8505)\n",
      "epoch # 4\n",
      "loss:  0.27058711647987366\n",
      "acc:(%)  tensor(97.1761)\n",
      "epoch # 5\n",
      "loss:  0.18117663264274597\n",
      "acc:(%)  tensor(98.5880)\n",
      "epoch # 6\n",
      "loss:  0.10746495425701141\n",
      "acc:(%)  tensor(99.0864)\n",
      "epoch # 7\n",
      "loss:  0.05896689370274544\n",
      "acc:(%)  tensor(99.3355)\n",
      "epoch # 8\n",
      "loss:  0.033976756036281586\n",
      "acc:(%)  tensor(99.5017)\n",
      "epoch # 9\n",
      "loss:  0.02282559685409069\n",
      "acc:(%)  tensor(99.5017)\n"
     ]
    }
   ],
   "source": [
    "train(10)"
   ]
  },
  {
   "cell_type": "code",
   "execution_count": 23,
   "metadata": {},
   "outputs": [
    {
     "name": "stdout",
     "output_type": "stream",
     "text": [
      "epoch # 0\n",
      "loss:  0.9145722389221191\n",
      "acc (%):  tensor(91.2935)\n",
      "epoch # 1\n",
      "loss:  0.9145722389221191\n",
      "acc (%):  tensor(91.2935)\n",
      "epoch # 2\n",
      "loss:  0.9145722389221191\n",
      "acc (%):  tensor(91.2935)\n",
      "epoch # 3\n",
      "loss:  0.9145722389221191\n",
      "acc (%):  tensor(91.2935)\n",
      "epoch # 4\n",
      "loss:  0.9145722389221191\n",
      "acc (%):  tensor(91.2935)\n",
      "epoch # 5\n",
      "loss:  0.9145722389221191\n",
      "acc (%):  tensor(91.2935)\n",
      "epoch # 6\n",
      "loss:  0.9145722389221191\n",
      "acc (%):  tensor(91.2935)\n",
      "epoch # 7\n",
      "loss:  0.9145722389221191\n",
      "acc (%):  tensor(91.2935)\n",
      "epoch # 8\n",
      "loss:  0.9145722389221191\n",
      "acc (%):  tensor(91.2935)\n",
      "epoch # 9\n",
      "loss:  0.9145722389221191\n",
      "acc (%):  tensor(91.2935)\n"
     ]
    }
   ],
   "source": [
    "test(10)"
   ]
  },
  {
   "cell_type": "code",
   "execution_count": null,
   "metadata": {},
   "outputs": [],
   "source": [
    "pred = model(torch.from_numpy(features_test).float())"
   ]
  },
  {
   "cell_type": "code",
   "execution_count": null,
   "metadata": {},
   "outputs": [],
   "source": [
    "pred = torch.max(pred,1)[1]"
   ]
  },
  {
   "cell_type": "code",
   "execution_count": null,
   "metadata": {},
   "outputs": [],
   "source": [
    "p_train = model(torch.from_numpy(features_train).float())\n",
    "p_train = torch.max(p_train,1)[1]\n",
    "p_train = p_train.data.numpy()\n",
    "accuracy_score(labels_train, p_train)"
   ]
  },
  {
   "cell_type": "code",
   "execution_count": null,
   "metadata": {},
   "outputs": [],
   "source": [
    "from sklearn.metrics import confusion_matrix"
   ]
  },
  {
   "cell_type": "code",
   "execution_count": null,
   "metadata": {},
   "outputs": [],
   "source": [
    "cm = confusion_matrix(labels_test, pred)\n",
    "cm"
   ]
  },
  {
   "cell_type": "code",
   "execution_count": 13,
   "metadata": {},
   "outputs": [],
   "source": [
    "import sys,os\n",
    "sys.path.insert(0,os.path.join('Code/Preprocess'))"
   ]
  },
  {
   "cell_type": "code",
   "execution_count": 14,
   "metadata": {},
   "outputs": [],
   "source": [
    "from DataPreparation import dataPrepare\n",
    "fetchData = dataPrepare()"
   ]
  },
  {
   "cell_type": "code",
   "execution_count": 15,
   "metadata": {},
   "outputs": [],
   "source": [
    "X,y =  fetchData.deepLearningInput('YoutubeComplete.csv')"
   ]
  },
  {
   "cell_type": "code",
   "execution_count": 23,
   "metadata": {},
   "outputs": [],
   "source": [
    "from sklearn.model_selection import train_test_split\n",
    "X_train,X_test,y_train,y_test = train_test_split(X,y,test_size=0.3,shuffle=True, random_state=34)\n",
    "x_val,_,y_val,_ = train_test_split(X_test,y_test, test_size=0.25, random_state=1)"
   ]
  },
  {
   "cell_type": "code",
   "execution_count": 27,
   "metadata": {},
   "outputs": [
    {
     "name": "stdout",
     "output_type": "stream",
     "text": [
      "epoch # 0\n",
      "loss:  0.7040508389472961\n",
      "acc:(%)  42.542015075683594\n",
      "epoch # 1\n",
      "loss:  0.6144607067108154\n",
      "acc:(%)  94.32772827148438\n",
      "epoch # 2\n",
      "loss:  0.4574204981327057\n",
      "acc:(%)  95.69327545166016\n",
      "epoch # 3\n",
      "loss:  0.28568124771118164\n",
      "acc:(%)  96.21849060058594\n",
      "epoch # 4\n",
      "loss:  0.15670649707317352\n",
      "acc:(%)  96.32353210449219\n",
      "epoch # 5\n",
      "loss:  0.09152691066265106\n",
      "acc:(%)  96.42857360839844\n",
      "epoch # 6\n",
      "loss:  0.06836235523223877\n",
      "acc:(%)  96.74369812011719\n",
      "epoch # 7\n",
      "loss:  0.06219467520713806\n",
      "acc:(%)  96.84873962402344\n",
      "epoch # 8\n",
      "loss:  0.06022853031754494\n",
      "acc:(%)  96.84873962402344\n",
      "epoch # 9\n",
      "loss:  0.056714434176683426\n",
      "acc:(%)  96.95378112792969\n",
      "epoch # 10\n",
      "loss:  0.05257551744580269\n",
      "acc:(%)  97.05882263183594\n",
      "epoch # 11\n",
      "loss:  0.05144520103931427\n",
      "acc:(%)  97.05882263183594\n",
      "epoch # 12\n",
      "loss:  0.05420515686273575\n",
      "acc:(%)  96.42857360839844\n",
      "epoch # 13\n",
      "loss:  0.05541239678859711\n",
      "acc:(%)  96.53361511230469\n",
      "epoch # 14\n",
      "loss:  0.05333348363637924\n",
      "acc:(%)  96.53361511230469\n",
      "epoch # 15\n",
      "loss:  0.05133635923266411\n",
      "acc:(%)  97.16386413574219\n",
      "epoch # 16\n",
      "loss:  0.05170119181275368\n",
      "acc:(%)  97.16386413574219\n",
      "epoch # 17\n",
      "loss:  0.0530758798122406\n",
      "acc:(%)  97.16386413574219\n",
      "epoch # 18\n",
      "loss:  0.05249239131808281\n",
      "acc:(%)  97.16386413574219\n",
      "epoch # 19\n",
      "loss:  0.050381630659103394\n",
      "acc:(%)  97.16386413574219\n"
     ]
    }
   ],
   "source": [
    "x_train = Variable(torch.from_numpy(X_train)).float()\n",
    "y_train = Variable(torch.from_numpy(y_train.numpy())).long()\n",
    "# y_train = y_train.unsqueeze(1)\n",
    "model.train()\n",
    "for epoch in range(20):\n",
    "    optimizer.zero_grad()\n",
    "    y_pred = model(x_train)\n",
    "    loss = criterion(y_pred, y_train)\n",
    "    print (\"epoch #\",epoch)\n",
    "    print (\"loss: \", loss.item())\n",
    "    pred = torch.max(y_pred, 1)[1].eq(y_train).sum()\n",
    "    print (\"acc:(%) \", (100*pred/len(x_train)).item())\n",
    "    loss.backward()\n",
    "    optimizer.step()"
   ]
  },
  {
   "cell_type": "code",
   "execution_count": 30,
   "metadata": {},
   "outputs": [
    {
     "name": "stdout",
     "output_type": "stream",
     "text": [
      "epoch # 0\n",
      "loss:  0.3851505219936371\n",
      "acc (%):  86.60131072998047\n",
      "epoch # 1\n",
      "loss:  0.3851505219936371\n",
      "acc (%):  86.60131072998047\n",
      "epoch # 2\n",
      "loss:  0.3851505219936371\n",
      "acc (%):  86.60131072998047\n",
      "epoch # 3\n",
      "loss:  0.3851505219936371\n",
      "acc (%):  86.60131072998047\n",
      "epoch # 4\n",
      "loss:  0.3851505219936371\n",
      "acc (%):  86.60131072998047\n",
      "epoch # 5\n",
      "loss:  0.3851505219936371\n",
      "acc (%):  86.60131072998047\n",
      "epoch # 6\n",
      "loss:  0.3851505219936371\n",
      "acc (%):  86.60131072998047\n",
      "epoch # 7\n",
      "loss:  0.3851505219936371\n",
      "acc (%):  86.60131072998047\n",
      "epoch # 8\n",
      "loss:  0.3851505219936371\n",
      "acc (%):  86.60131072998047\n",
      "epoch # 9\n",
      "loss:  0.3851505219936371\n",
      "acc (%):  86.60131072998047\n"
     ]
    }
   ],
   "source": [
    "model.eval()\n",
    "x_test = Variable(torch.from_numpy(x_val)).float()\n",
    "y_test = Variable(torch.from_numpy(y_val.to_numpy())).long()\n",
    "for epoch in range(10):\n",
    "    with torch.no_grad():\n",
    "        y_pred = model(x_test)\n",
    "        loss = criterion(y_pred, y_test)\n",
    "        print (\"epoch #\",epoch)\n",
    "        print (\"loss: \", loss.item())\n",
    "        pred = torch.max(y_pred, 1)[1].eq(y_test).sum()\n",
    "        print (\"acc (%): \", (100*pred/len(x_test)).item())"
   ]
  },
  {
   "cell_type": "code",
   "execution_count": null,
   "metadata": {},
   "outputs": [],
   "source": []
  }
 ],
 "metadata": {
  "interpreter": {
   "hash": "c3a3aea3ba4ca9e890576da1d0fbbf9f9c3827321210a265d367aebd70b17084"
  },
  "kernelspec": {
   "display_name": "Python 3.8.5 64-bit ('py3-virtualenv': virtualenv)",
   "language": "python",
   "name": "python3"
  },
  "language_info": {
   "codemirror_mode": {
    "name": "ipython",
    "version": 3
   },
   "file_extension": ".py",
   "mimetype": "text/x-python",
   "name": "python",
   "nbconvert_exporter": "python",
   "pygments_lexer": "ipython3",
   "version": "3.8.5"
  },
  "orig_nbformat": 4
 },
 "nbformat": 4,
 "nbformat_minor": 2
}
