{
 "cells": [
  {
   "cell_type": "code",
   "execution_count": 12,
   "metadata": {},
   "outputs": [
    {
     "name": "stdout",
     "output_type": "stream",
     "text": [
      "GPU not available, CPU used\n"
     ]
    }
   ],
   "source": [
    "from posixpath import abspath\n",
    "import sys,os\n",
    "from pathlib import Path\n",
    "import tensorflow as tf\n",
    "sys.path.insert(0,os.path.join('Code/Preprocess'))\n",
    "\n",
    "import torch\n",
    "import torch.nn as nn\n",
    "\n",
    "import tensorflow as tf # Adding padding to our dataset (train and test models)\n",
    "import numpy as np\n",
    "from DataPreparation import dataPrepare\n",
    "\n",
    "import warnings\n",
    "warnings.filterwarnings(\"ignore\")\n",
    "\n",
    "is_cuda = torch.cuda.is_available()\n",
    "\n",
    "# If we have a GPU available, we'll set our device to GPU. We'll use this device variable later in our code.\n",
    "if is_cuda:\n",
    "    device = torch.device(\"cuda\")\n",
    "    print(\"GPU is available\")\n",
    "else:\n",
    "    device = torch.device(\"cpu\")\n",
    "    print(\"GPU not available, CPU used\")"
   ]
  },
  {
   "cell_type": "code",
   "execution_count": 13,
   "metadata": {},
   "outputs": [],
   "source": [
    "class Data:\n",
    "\n",
    "    def __init__(self,path) -> None:\n",
    "        self.path = path\n",
    "\n",
    "    def getData(self):\n",
    "        \"\"\"Considers the path of the dataset which holds the sparse matrix. With the help of tensorflow we are\n",
    "        creating the padding for our dataset (X_train and X_test).\n",
    "\n",
    "        Returns:\n",
    "            Tensor: Tensor data with padding and dataframe\n",
    "        \"\"\"\n",
    "        fetchData = dataPrepare()\n",
    "    \n",
    "        X_train, X_test, y_train, y_test =  fetchData.Vectorizer(self.path)\n",
    "\n",
    "        # Adding the padding to our sparse matrix\n",
    "        X_train = tf.keras.preprocessing.sequence.pad_sequences(X_train.todense())\n",
    "        X_test = tf.keras.preprocessing.sequence.pad_sequences(X_test.todense())\n",
    "\n",
    "        # make training and test sets in torch\n",
    "        x_train = torch.from_numpy(X_train).type(torch.Tensor)\n",
    "        x_test = torch.from_numpy(X_test).type(torch.Tensor)\n",
    "        y_train = torch.from_numpy(y_train.to_numpy()).type(torch.Tensor)\n",
    "        y_test = torch.from_numpy(y_test.to_numpy()).type(torch.Tensor)\n",
    "        \n",
    "        print(f'Size of our y-train dataset is {y_train.size()} and X-train dataset is {x_train.size()}')\n",
    "\n",
    "        return x_train,x_test,y_train,y_test"
   ]
  },
  {
   "cell_type": "code",
   "execution_count": 91,
   "metadata": {},
   "outputs": [],
   "source": [
    "class LSTM(nn.Module):\n",
    "    def __init__(self, input_dim, hidden_dim, num_layers, output_dim):\n",
    "        \"\"\"LSTM model which takes the following input:\n",
    "                - Input Dimension\n",
    "                - Hidden Layers (Number)\n",
    "                - Total Number of Layers\n",
    "                - Ouput Diemension\n",
    "\n",
    "        Args:\n",
    "            input_dim (int): Length of the dataset\n",
    "            hidden_dim (int): Total hidden layer\n",
    "            num_layers (int): Total layers to be present\n",
    "            output_dim (int): Number of output diemension layer\n",
    "        \"\"\"\n",
    "        super(LSTM, self).__init__()\n",
    "        # Hidden dimensions\n",
    "        self.hidden_dim = hidden_dim\n",
    "\n",
    "        # Number of hidden layers\n",
    "        self.num_layers = num_layers\n",
    "\n",
    "        # batch_first=True causes input/output tensors to be of shape\n",
    "        # (batch_dim, seq_dim, feature_dim)\n",
    "        self.lstm = nn.LSTM(input_dim, hidden_dim, num_layers, batch_first=True)\n",
    "\n",
    "        # Readout layer\n",
    "        self.fc = nn.Linear(hidden_dim, output_dim)\n",
    "\n",
    "    def forward(self, x):\n",
    "        # https://discuss.pytorch.org/t/why-do-i-get-typeerror-expected-np-ndarray-got-numpy-ndarray-when-i-use-torch-from-numpy-function/37525/3\n",
    "        x = torch.from_numpy(np.asarray(x)).type(torch.Tensor)\n",
    "        # Initialize hidden state with zeros\n",
    "        h0 = torch.zeros(self.num_layers,tuple(x.size())[0] , self.hidden_dim).requires_grad_()\n",
    "\n",
    "        # Initialize cell state\n",
    "        c0 = torch.zeros(self.num_layers, tuple(x.size())[0], self.hidden_dim).requires_grad_()\n",
    "\n",
    "        # We need to detach as we are doing truncated backpropagation through time (BPTT)\n",
    "        # If we don't, we'll backprop all the way to the start even after going through another batch\n",
    "        out, (hn, cn) = self.lstm(x, (h0.detach(), c0.detach()))\n",
    "\n",
    "        # Index hidden state of last time step\n",
    "        out = self.fc(out[:, -1, :])\n",
    "        return out"
   ]
  },
  {
   "cell_type": "code",
   "execution_count": 92,
   "metadata": {},
   "outputs": [],
   "source": [
    "# create Dataset object to support batch training\n",
    "class Dataset(torch.utils.data.Dataset):\n",
    "    def __init__(self, features, labels):\n",
    "        self.features = features             \n",
    "        self.labels = labels\n",
    "        \n",
    "    def __len__(self):\n",
    "        return len(self.labels)\n",
    "    \n",
    "    def __getitem__(self, idx):\n",
    "        return (self.features[idx], self.labels[idx])"
   ]
  },
  {
   "cell_type": "code",
   "execution_count": 226,
   "metadata": {},
   "outputs": [],
   "source": [
    "class LSTMImplement:\n",
    "\n",
    "    def __init__(self,path, hidden_dim, num_layers, output_dim) -> None:\n",
    "        \"\"\"A cosntructor which takes the path of the dataset, number of hidden dimensions, number of layers and output\n",
    "        diemensions as our parameters. This will plot our accuracy plot and loss plot.\n",
    "\n",
    "        Args:\n",
    "            path (String): Path of our dataset\n",
    "            hidden_dim (int): Total hidden layer\n",
    "            num_layers (int): Total layers to be present\n",
    "            output_dim (int): Number of output diemension layer\n",
    "        \"\"\"\n",
    "        self.path = path\n",
    "        self.hidden_dim = hidden_dim\n",
    "        self.num_layers = num_layers\n",
    "        self.output_dim = output_dim\n",
    "\n",
    "    def run(self):\n",
    "        from torch.utils.data import DataLoader\n",
    "        from sklearn.model_selection import train_test_split\n",
    "        fetchData = dataPrepare()\n",
    "        X_train, X_test, y_train, y_test =  fetchData.Vectorizer(self.path)\n",
    "        x_train,x_test,y_train,y_test = Data(self.path).getData()\n",
    "        x_val,_,y_val,_ = train_test_split(x_train,y_train,random_state=100,test_size=0.5)\n",
    "        input_dimension = X_train.shape[1]\n",
    "        model = LSTM(input_dim=input_dimension, hidden_dim=self.hidden_dim, output_dim=self.output_dim, num_layers=self.num_layers)\n",
    "\n",
    "        # https://discuss.pytorch.org/t/valueerror-target-size-torch-size-16-must-be-the-same-as-input-size-torch-size-16-1/55232\n",
    "        y_train = y_train.unsqueeze(1)\n",
    "        y_train = y_train.float()\n",
    "        loss_fn = torch.nn.BCEWithLogitsLoss()\n",
    "\n",
    "        train_dataset = Dataset(x_train, y_train)\n",
    "        dataloader = DataLoader(train_dataset,batch_size=16, shuffle=True)\n",
    "        optimiser = torch.optim.Adam(model.parameters(), lr=0.001)\n",
    "        \n",
    "        print(len(list(model.parameters())))\n",
    "        for i in range(len(list(model.parameters()))):\n",
    "            print(list(model.parameters())[i].size())\n",
    "\n",
    "        num_epochs = 100\n",
    "        loss_val  = np.zeros(num_epochs)\n",
    "        acc_val  = np.zeros(num_epochs)\n",
    "        \n",
    "        for t in range(num_epochs):\n",
    "            model.train()\n",
    "            for idx, (X_batch, Y_batch) in enumerate(dataloader):\n",
    "                # Forward pass\n",
    "                output = model(X_batch)  # conduct forward pass\n",
    "\n",
    "                loss = loss_fn(output, Y_batch)\n",
    "                loss += 0.001 * sum(p.abs().sum() for p in model.parameters())\n",
    "                # if t % 10 == 0 and t !=0:\n",
    "                #     print(f\"Epoch {t} MSE is {loss.item()}\")\n",
    "                loss_val[t] = loss.item()\n",
    "\n",
    "                # Zero out gradient, else they will accumulate between epochs\n",
    "                optimiser.zero_grad()\n",
    "\n",
    "                # Backward pass\n",
    "                loss.backward()\n",
    "\n",
    "                # Update parameters\n",
    "                optimiser.step()\n",
    "            \n",
    "            with torch.no_grad():  # no need to calculate gradients when assessing accuracy\n",
    "\n",
    "                model.eval()\n",
    "                pred_train = model(x_train).numpy().argmax(axis=1)\n",
    "                train_acc = (pred_train == y_train.numpy()).mean()\n",
    "                pred_val = model(x_val).numpy().argmax(axis=1)\n",
    "                val_acc = (pred_val == y_val.numpy()).mean()\n",
    "                acc_val[t] = val_acc\n",
    "        return acc_val,loss_val"
   ]
  },
  {
   "cell_type": "code",
   "execution_count": 227,
   "metadata": {},
   "outputs": [
    {
     "name": "stdout",
     "output_type": "stream",
     "text": [
      "Size of our y-train dataset is torch.Size([952]) and X-train dataset is torch.Size([952, 1, 2701])\n",
      "6\n",
      "torch.Size([128, 2701])\n",
      "torch.Size([128, 32])\n",
      "torch.Size([128])\n",
      "torch.Size([128])\n",
      "torch.Size([2, 32])\n",
      "torch.Size([2])\n"
     ]
    },
    {
     "ename": "ValueError",
     "evalue": "Target size (torch.Size([16, 1])) must be the same as input size (torch.Size([16, 2]))",
     "output_type": "error",
     "traceback": [
      "\u001b[0;31m---------------------------------------------------------------------------\u001b[0m",
      "\u001b[0;31mValueError\u001b[0m                                Traceback (most recent call last)",
      "\u001b[0;32m/var/folders/72/b37ygcg91x370txz29wprwjc0000gn/T/ipykernel_14053/1560802266.py\u001b[0m in \u001b[0;36m<module>\u001b[0;34m\u001b[0m\n\u001b[0;32m----> 1\u001b[0;31m \u001b[0macc\u001b[0m\u001b[0;34m,\u001b[0m\u001b[0mloss\u001b[0m \u001b[0;34m=\u001b[0m \u001b[0mLSTMImplement\u001b[0m\u001b[0;34m(\u001b[0m\u001b[0;34m'YoutubeComplete.csv'\u001b[0m\u001b[0;34m,\u001b[0m\u001b[0;36m32\u001b[0m\u001b[0;34m,\u001b[0m\u001b[0;36m1\u001b[0m\u001b[0;34m,\u001b[0m\u001b[0;36m2\u001b[0m\u001b[0;34m)\u001b[0m\u001b[0;34m.\u001b[0m\u001b[0mrun\u001b[0m\u001b[0;34m(\u001b[0m\u001b[0;34m)\u001b[0m\u001b[0;34m\u001b[0m\u001b[0;34m\u001b[0m\u001b[0m\n\u001b[0m",
      "\u001b[0;32m/var/folders/72/b37ygcg91x370txz29wprwjc0000gn/T/ipykernel_14053/2237144916.py\u001b[0m in \u001b[0;36mrun\u001b[0;34m(self)\u001b[0m\n\u001b[1;32m     49\u001b[0m                 \u001b[0moutput\u001b[0m \u001b[0;34m=\u001b[0m \u001b[0mmodel\u001b[0m\u001b[0;34m(\u001b[0m\u001b[0mX_batch\u001b[0m\u001b[0;34m)\u001b[0m  \u001b[0;31m# conduct forward pass\u001b[0m\u001b[0;34m\u001b[0m\u001b[0;34m\u001b[0m\u001b[0m\n\u001b[1;32m     50\u001b[0m \u001b[0;34m\u001b[0m\u001b[0m\n\u001b[0;32m---> 51\u001b[0;31m                 \u001b[0mloss\u001b[0m \u001b[0;34m=\u001b[0m \u001b[0mloss_fn\u001b[0m\u001b[0;34m(\u001b[0m\u001b[0moutput\u001b[0m\u001b[0;34m,\u001b[0m \u001b[0mY_batch\u001b[0m\u001b[0;34m)\u001b[0m\u001b[0;34m\u001b[0m\u001b[0;34m\u001b[0m\u001b[0m\n\u001b[0m\u001b[1;32m     52\u001b[0m                 \u001b[0mloss\u001b[0m \u001b[0;34m+=\u001b[0m \u001b[0;36m0.001\u001b[0m \u001b[0;34m*\u001b[0m \u001b[0msum\u001b[0m\u001b[0;34m(\u001b[0m\u001b[0mp\u001b[0m\u001b[0;34m.\u001b[0m\u001b[0mabs\u001b[0m\u001b[0;34m(\u001b[0m\u001b[0;34m)\u001b[0m\u001b[0;34m.\u001b[0m\u001b[0msum\u001b[0m\u001b[0;34m(\u001b[0m\u001b[0;34m)\u001b[0m \u001b[0;32mfor\u001b[0m \u001b[0mp\u001b[0m \u001b[0;32min\u001b[0m \u001b[0mmodel\u001b[0m\u001b[0;34m.\u001b[0m\u001b[0mparameters\u001b[0m\u001b[0;34m(\u001b[0m\u001b[0;34m)\u001b[0m\u001b[0;34m)\u001b[0m\u001b[0;34m\u001b[0m\u001b[0;34m\u001b[0m\u001b[0m\n\u001b[1;32m     53\u001b[0m                 \u001b[0;31m# if t % 10 == 0 and t !=0:\u001b[0m\u001b[0;34m\u001b[0m\u001b[0;34m\u001b[0m\u001b[0;34m\u001b[0m\u001b[0m\n",
      "\u001b[0;32m~/Documents/GitHub/Spam_Detection/venv/lib/python3.8/site-packages/torch/nn/modules/module.py\u001b[0m in \u001b[0;36m_call_impl\u001b[0;34m(self, *input, **kwargs)\u001b[0m\n\u001b[1;32m   1100\u001b[0m         if not (self._backward_hooks or self._forward_hooks or self._forward_pre_hooks or _global_backward_hooks\n\u001b[1;32m   1101\u001b[0m                 or _global_forward_hooks or _global_forward_pre_hooks):\n\u001b[0;32m-> 1102\u001b[0;31m             \u001b[0;32mreturn\u001b[0m \u001b[0mforward_call\u001b[0m\u001b[0;34m(\u001b[0m\u001b[0;34m*\u001b[0m\u001b[0minput\u001b[0m\u001b[0;34m,\u001b[0m \u001b[0;34m**\u001b[0m\u001b[0mkwargs\u001b[0m\u001b[0;34m)\u001b[0m\u001b[0;34m\u001b[0m\u001b[0;34m\u001b[0m\u001b[0m\n\u001b[0m\u001b[1;32m   1103\u001b[0m         \u001b[0;31m# Do not call functions when jit is used\u001b[0m\u001b[0;34m\u001b[0m\u001b[0;34m\u001b[0m\u001b[0;34m\u001b[0m\u001b[0m\n\u001b[1;32m   1104\u001b[0m         \u001b[0mfull_backward_hooks\u001b[0m\u001b[0;34m,\u001b[0m \u001b[0mnon_full_backward_hooks\u001b[0m \u001b[0;34m=\u001b[0m \u001b[0;34m[\u001b[0m\u001b[0;34m]\u001b[0m\u001b[0;34m,\u001b[0m \u001b[0;34m[\u001b[0m\u001b[0;34m]\u001b[0m\u001b[0;34m\u001b[0m\u001b[0;34m\u001b[0m\u001b[0m\n",
      "\u001b[0;32m~/Documents/GitHub/Spam_Detection/venv/lib/python3.8/site-packages/torch/nn/modules/loss.py\u001b[0m in \u001b[0;36mforward\u001b[0;34m(self, input, target)\u001b[0m\n\u001b[1;32m    702\u001b[0m \u001b[0;34m\u001b[0m\u001b[0m\n\u001b[1;32m    703\u001b[0m     \u001b[0;32mdef\u001b[0m \u001b[0mforward\u001b[0m\u001b[0;34m(\u001b[0m\u001b[0mself\u001b[0m\u001b[0;34m,\u001b[0m \u001b[0minput\u001b[0m\u001b[0;34m:\u001b[0m \u001b[0mTensor\u001b[0m\u001b[0;34m,\u001b[0m \u001b[0mtarget\u001b[0m\u001b[0;34m:\u001b[0m \u001b[0mTensor\u001b[0m\u001b[0;34m)\u001b[0m \u001b[0;34m->\u001b[0m \u001b[0mTensor\u001b[0m\u001b[0;34m:\u001b[0m\u001b[0;34m\u001b[0m\u001b[0;34m\u001b[0m\u001b[0m\n\u001b[0;32m--> 704\u001b[0;31m         return F.binary_cross_entropy_with_logits(input, target,\n\u001b[0m\u001b[1;32m    705\u001b[0m                                                   \u001b[0mself\u001b[0m\u001b[0;34m.\u001b[0m\u001b[0mweight\u001b[0m\u001b[0;34m,\u001b[0m\u001b[0;34m\u001b[0m\u001b[0;34m\u001b[0m\u001b[0m\n\u001b[1;32m    706\u001b[0m                                                   \u001b[0mpos_weight\u001b[0m\u001b[0;34m=\u001b[0m\u001b[0mself\u001b[0m\u001b[0;34m.\u001b[0m\u001b[0mpos_weight\u001b[0m\u001b[0;34m,\u001b[0m\u001b[0;34m\u001b[0m\u001b[0;34m\u001b[0m\u001b[0m\n",
      "\u001b[0;32m~/Documents/GitHub/Spam_Detection/venv/lib/python3.8/site-packages/torch/nn/functional.py\u001b[0m in \u001b[0;36mbinary_cross_entropy_with_logits\u001b[0;34m(input, target, weight, size_average, reduce, reduction, pos_weight)\u001b[0m\n\u001b[1;32m   2978\u001b[0m \u001b[0;34m\u001b[0m\u001b[0m\n\u001b[1;32m   2979\u001b[0m     \u001b[0;32mif\u001b[0m \u001b[0;32mnot\u001b[0m \u001b[0;34m(\u001b[0m\u001b[0mtarget\u001b[0m\u001b[0;34m.\u001b[0m\u001b[0msize\u001b[0m\u001b[0;34m(\u001b[0m\u001b[0;34m)\u001b[0m \u001b[0;34m==\u001b[0m \u001b[0minput\u001b[0m\u001b[0;34m.\u001b[0m\u001b[0msize\u001b[0m\u001b[0;34m(\u001b[0m\u001b[0;34m)\u001b[0m\u001b[0;34m)\u001b[0m\u001b[0;34m:\u001b[0m\u001b[0;34m\u001b[0m\u001b[0;34m\u001b[0m\u001b[0m\n\u001b[0;32m-> 2980\u001b[0;31m         \u001b[0;32mraise\u001b[0m \u001b[0mValueError\u001b[0m\u001b[0;34m(\u001b[0m\u001b[0;34m\"Target size ({}) must be the same as input size ({})\"\u001b[0m\u001b[0;34m.\u001b[0m\u001b[0mformat\u001b[0m\u001b[0;34m(\u001b[0m\u001b[0mtarget\u001b[0m\u001b[0;34m.\u001b[0m\u001b[0msize\u001b[0m\u001b[0;34m(\u001b[0m\u001b[0;34m)\u001b[0m\u001b[0;34m,\u001b[0m \u001b[0minput\u001b[0m\u001b[0;34m.\u001b[0m\u001b[0msize\u001b[0m\u001b[0;34m(\u001b[0m\u001b[0;34m)\u001b[0m\u001b[0;34m)\u001b[0m\u001b[0;34m)\u001b[0m\u001b[0;34m\u001b[0m\u001b[0;34m\u001b[0m\u001b[0m\n\u001b[0m\u001b[1;32m   2981\u001b[0m \u001b[0;34m\u001b[0m\u001b[0m\n\u001b[1;32m   2982\u001b[0m     \u001b[0;32mreturn\u001b[0m \u001b[0mtorch\u001b[0m\u001b[0;34m.\u001b[0m\u001b[0mbinary_cross_entropy_with_logits\u001b[0m\u001b[0;34m(\u001b[0m\u001b[0minput\u001b[0m\u001b[0;34m,\u001b[0m \u001b[0mtarget\u001b[0m\u001b[0;34m,\u001b[0m \u001b[0mweight\u001b[0m\u001b[0;34m,\u001b[0m \u001b[0mpos_weight\u001b[0m\u001b[0;34m,\u001b[0m \u001b[0mreduction_enum\u001b[0m\u001b[0;34m)\u001b[0m\u001b[0;34m\u001b[0m\u001b[0;34m\u001b[0m\u001b[0m\n",
      "\u001b[0;31mValueError\u001b[0m: Target size (torch.Size([16, 1])) must be the same as input size (torch.Size([16, 2]))"
     ]
    }
   ],
   "source": [
    "acc,loss = LSTMImplement('YoutubeComplete.csv',32,1,2).run()"
   ]
  },
  {
   "cell_type": "code",
   "execution_count": 217,
   "metadata": {},
   "outputs": [
    {
     "data": {
      "text/plain": [
       "Text(0.5, 0, 'epoch')"
      ]
     },
     "execution_count": 217,
     "metadata": {},
     "output_type": "execute_result"
    },
    {
     "data": {
      "image/png": "[encoded data removed]",
      "text/plain": [
       "<Figure size 432x288 with 1 Axes>"
      ]
     },
     "metadata": {
      "needs_background": "light"
     },
     "output_type": "display_data"
    }
   ],
   "source": [
    "import matplotlib.pyplot as plt\n",
    "plt.plot(acc, label=\"Model accuracy\")\n",
    "plt.legend()\n",
    "plt.title('model accuracy')\n",
    "plt.ylabel('accuracy')\n",
    "plt.xlabel('epoch')"
   ]
  },
  {
   "cell_type": "code",
   "execution_count": 218,
   "metadata": {},
   "outputs": [
    {
     "data": {
      "text/plain": [
       "Text(0.5, 0, 'epoch')"
      ]
     },
     "execution_count": 218,
     "metadata": {},
     "output_type": "execute_result"
    },
    {
     "data": {
      "image/png": "[encoded data removed]",
      "text/plain": [
       "<Figure size 432x288 with 1 Axes>"
      ]
     },
     "metadata": {
      "needs_background": "light"
     },
     "output_type": "display_data"
    }
   ],
   "source": [
    "plt.plot(loss, label=\"Training loss\")\n",
    "plt.legend()\n",
    "plt.title('model loss')\n",
    "plt.ylabel('loss')\n",
    "plt.xlabel('epoch')"
   ]
  },
  {
   "cell_type": "code",
   "execution_count": 141,
   "metadata": {},
   "outputs": [
    {
     "data": {
      "text/plain": [
       "57.14285714285714"
      ]
     },
     "execution_count": 141,
     "metadata": {},
     "output_type": "execute_result"
    }
   ],
   "source": [
    "# acc_val.unique()\n",
    "np.unique(acc_val)[0] * 100"
   ]
  },
  {
   "cell_type": "code",
   "execution_count": 142,
   "metadata": {},
   "outputs": [
    {
     "data": {
      "text/plain": [
       "56.72268907563025"
      ]
     },
     "execution_count": 142,
     "metadata": {},
     "output_type": "execute_result"
    }
   ],
   "source": [
    "train_acc * 100"
   ]
  },
  {
   "cell_type": "code",
   "execution_count": null,
   "metadata": {},
   "outputs": [],
   "source": [
    "def run(self):\n",
    "    from torch.utils.data import DataLoader\n",
    "    from sklearn.model_selection import train_test_split\n",
    "    fetchData = dataPrepare()\n",
    "    X_train, X_test, y_train, y_test =  fetchData.Vectorizer(self.path)\n",
    "    x_train,x_test,y_train,y_test = Data(self.path).getData()\n",
    "    x_val,_,y_val,_ = train_test_split(x_train,y_train,random_state=100,test_size=0.5)\n",
    "    input_dimension = X_train.shape[1]\n",
    "    model = LSTM(input_dim=input_dimension, hidden_dim=self.hidden_dim, output_dim=self.output_dim, num_layers=self.num_layers)\n",
    "\n",
    "    # https://discuss.pytorch.org/t/valueerror-target-size-torch-size-16-must-be-the-same-as-input-size-torch-size-16-1/55232\n",
    "    y_train = y_train.unsqueeze(1)\n",
    "    loss_fn = torch.nn.CrossEntropyLoss()\n",
    "\n",
    "    train_dataset = Dataset(x_train, y_train)\n",
    "    dataloader = DataLoader(train_dataset,batch_size=16, shuffle=True)\n",
    "    optimiser = torch.optim.Adam(model.parameters(), lr=0.001)\n",
    "    \n",
    "    print(len(list(model.parameters())))\n",
    "    for i in range(len(list(model.parameters()))):\n",
    "        print(list(model.parameters())[i].size())\n",
    "\n",
    "    num_epochs = 100\n",
    "    loss_val  = np.zeros(num_epochs)\n",
    "    acc_val  = np.zeros(num_epochs)\n",
    "    correct_values = 0\n",
    "    for epochs in range(num_epochs):\n",
    "        model.train()\n",
    "        for idx, (inputs,labels) in enumerate(dataloader):\n",
    "            # Forward pass\n",
    "            output = model(inputs)  # conduct forward pass\n",
    "\n",
    "            loss = loss_fn(output, labels)\n",
    "            loss += 0.001 * sum(p.abs().sum() for p in model.parameters())\n",
    "            # if t % 10 == 0 and t !=0:\n",
    "            #     print(f\"Epoch {t} MSE is {loss.item()}\")\n",
    "            loss_val[epochs] = loss.item()\n",
    "\n",
    "            # Zero out gradient, else they will accumulate between epochs\n",
    "            optimiser.zero_grad()\n",
    "\n",
    "            # Backward pass\n",
    "            loss.backward()\n",
    "\n",
    "            # Update parameters\n",
    "            optimiser.step()\n",
    "\n",
    "            correct_values += (output == labels).float().sum()\n",
    "            print(correct_values)\n",
    "        # with torch.no_grad():  # no need to calculate gradients when assessing accuracy\n",
    "\n",
    "        # model.eval()\n",
    "        # accuracy = 100 * correct_values / len(y_train.numpy())\n",
    "        # avg_loss = sum(loss) / len(y_train.numpy())\n",
    "        # print(f\"Accuracy is {accuracy} and avg loss is {avg_loss.item()}\")\n",
    "        # pred_train = model(x_train).detach().numpy().argmax(axis=1)\n",
    "        # train_acc = (pred_train == y_train.detach().numpy()).mean()\n",
    "        # pred_val = model(x_val).detach().numpy().argmax(axis=1)\n",
    "        # val_acc = (pred_val == y_val.detach().numpy()).mean()\n",
    "        # acc_val[epochs] = val_acc\n",
    "    return acc_val,loss_val"
   ]
  }
 ],
 "metadata": {
  "interpreter": {
   "hash": "62b984ecf3fa21db91abb9ce3361d5af483ec95077de7660821dc35f86aea7e4"
  },
  "kernelspec": {
   "display_name": "Python 3.8.5 64-bit ('venv': venv)",
   "language": "python",
   "name": "python3"
  },
  "language_info": {
   "codemirror_mode": {
    "name": "ipython",
    "version": 3
   },
   "file_extension": ".py",
   "mimetype": "text/x-python",
   "name": "python",
   "nbconvert_exporter": "python",
   "pygments_lexer": "ipython3",
   "version": "3.8.5"
  },
  "orig_nbformat": 4
 },
 "nbformat": 4,
 "nbformat_minor": 2
}
